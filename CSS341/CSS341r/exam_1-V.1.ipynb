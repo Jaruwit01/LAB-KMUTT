{
  "nbformat": 4,
  "nbformat_minor": 0,
  "metadata": {
    "colab": {
      "provenance": []
    },
    "kernelspec": {
      "name": "python3",
      "display_name": "Python 3"
    },
    "language_info": {
      "name": "python"
    }
  },
  "cells": [
    {
      "cell_type": "code",
      "execution_count": 185,
      "metadata": {
        "id": "vxZL3iLlpnW9"
      },
      "outputs": [],
      "source": [
        "import numpy as np\n",
        "import pandas as pd\n",
        "import datetime as dt\n",
        "import matplotlib.pyplot as plt\n",
        "import seaborn as sns\n",
        "%matplotlib inline"
      ]
    },
    {
      "cell_type": "code",
      "source": [
        "kr = pd.read_csv(\"Korean.csv\")\n",
        "kr = kr[['Year','Genre','Rating']]"
      ],
      "metadata": {
        "id": "-sF3vsJap24n"
      },
      "execution_count": 210,
      "outputs": []
    },
    {
      "cell_type": "code",
      "source": [
        "year = [\"(2016)\",\"(2017)\",\"(2018)\"\"(2019)\",\"(2020)\",\"(2021)\"]\n",
        "filter1 = kr[\"Year\"].isin([\"(2016)\",\"(2017)\",\"(2018)\",\"(2019)\",\"(2020)\",\"(2021)\"])\n",
        "searchfor = ['Comedy','Romance', 'Drama', 'Fantastic' ,'Thriller']\n",
        "filter2 = kr[\"Genre\"].str.contains('|'.join(searchfor))\n",
        "kr1 = kr[filter1 & filter2]\n",
        "kr1['Rating'] = pd.to_numeric(kr1['Rating'], errors='coerce')"
      ],
      "metadata": {
        "colab": {
          "base_uri": "https://localhost:8080/"
        },
        "id": "VVJwG4L8x_7N",
        "outputId": "b3428e21-207a-434f-ed80-76cae3fd6ec1"
      },
      "execution_count": 209,
      "outputs": [
        {
          "output_type": "stream",
          "name": "stderr",
          "text": [
            "/usr/local/lib/python3.7/dist-packages/ipykernel_launcher.py:6: SettingWithCopyWarning: \n",
            "A value is trying to be set on a copy of a slice from a DataFrame.\n",
            "Try using .loc[row_indexer,col_indexer] = value instead\n",
            "\n",
            "See the caveats in the documentation: https://pandas.pydata.org/pandas-docs/stable/user_guide/indexing.html#returning-a-view-versus-a-copy\n",
            "  \n"
          ]
        }
      ]
    },
    {
      "cell_type": "markdown",
      "source": [
        "โจทย์กำหนดว่าในแต่ละปีจึงคิดแค่หนังที่ฉายในปีนั้นปีเดียวไม่ใช่หนังที่ฉายในหลายปี"
      ],
      "metadata": {
        "id": "TsYHuTFTlKmo"
      }
    },
    {
      "cell_type": "code",
      "source": [
        "kr2016c = kr1.loc[kr1['Genre'].str.contains(\"Comedy\", case=False) & kr1['Year'].isin([\"(2016)\"])]\n",
        "kr2016r = kr1.loc[kr1['Genre'].str.contains(\"Romance\", case=False) & kr1['Year'].isin([\"(2016)\"])]\n",
        "kr2016d = kr1.loc[kr1['Genre'].str.contains(\"Drama\", case=False) & kr1['Year'].isin([\"(2016)\"])]\n",
        "kr2016f = kr1.loc[kr1['Genre'].str.contains(\"Fantastic\", case=False) & kr1['Year'].isin([\"(2016)\"])]\n",
        "kr2016t = kr1.loc[kr1['Genre'].str.contains(\"Thriller\", case=False) & kr1['Year'].isin([\"(2016)\"])]\n"
      ],
      "metadata": {
        "id": "PKh1N6uQL5-8"
      },
      "execution_count": 188,
      "outputs": []
    },
    {
      "cell_type": "code",
      "source": [
        "avgkr2016c = kr2016c['Rating'].mean()\n",
        "avgkr2016r = kr2016r['Rating'].mean()\n",
        "avgkr2016d = kr2016d['Rating'].mean()\n",
        "avgkr2016f = kr2016f['Rating'].mean()\n",
        "avgkr2016t = kr2016t['Rating'].mean()\n",
        "\n",
        "countkr2016c = len(kr2016c)\n",
        "countkr2016r = len(kr2016r)\n",
        "countkr2016d = len(kr2016d)\n",
        "countkr2016f = len(kr2016f)\n",
        "countkr2016t = len(kr2016t)"
      ],
      "metadata": {
        "id": "qh5P2kDAhIEz"
      },
      "execution_count": 189,
      "outputs": []
    },
    {
      "cell_type": "code",
      "source": [
        "kr2017c = kr1.loc[kr1['Genre'].str.contains(\"Comedy\", case=False) & kr1['Year'].isin([\"(2017)\"])]\n",
        "kr2017r = kr1.loc[kr1['Genre'].str.contains(\"Romance\", case=False) & kr1['Year'].isin([\"(2017)\"])]\n",
        "kr2017d = kr1.loc[kr1['Genre'].str.contains(\"Drama\", case=False) & kr1['Year'].isin([\"(2017)\"])]\n",
        "kr2017f = kr1.loc[kr1['Genre'].str.contains(\"Fantastic\", case=False) & kr1['Year'].isin([\"(2017)\"])]\n",
        "kr2017t = kr1.loc[kr1['Genre'].str.contains(\"Thriller\", case=False) & kr1['Year'].isin([\"(2017)\"])]"
      ],
      "metadata": {
        "id": "PHKRpM7vTtF5"
      },
      "execution_count": 190,
      "outputs": []
    },
    {
      "cell_type": "code",
      "source": [
        "avgkr2017c = kr2017c['Rating'].mean()\n",
        "avgkr2017r = kr2017r['Rating'].mean()\n",
        "avgkr2017d = kr2017d['Rating'].mean()\n",
        "avgkr2017f = kr2017f['Rating'].mean()\n",
        "avgkr2017t = kr2017t['Rating'].mean()\n",
        "\n",
        "countkr2017c = len(kr2017c)\n",
        "countkr2017r = len(kr2017r)\n",
        "countkr2017d = len(kr2017d)\n",
        "countkr2017f = len(kr2017f)\n",
        "countkr2017t = len(kr2017t)"
      ],
      "metadata": {
        "id": "LudyTovrhaTI"
      },
      "execution_count": 191,
      "outputs": []
    },
    {
      "cell_type": "code",
      "source": [
        "kr2018c = kr1.loc[kr1['Genre'].str.contains(\"Comedy\", case=False) & kr1['Year'].isin([\"(2018)\"])]\n",
        "kr2018r = kr1.loc[kr1['Genre'].str.contains(\"Romance\", case=False) & kr1['Year'].isin([\"(2018)\"])]\n",
        "kr2018d = kr1.loc[kr1['Genre'].str.contains(\"Drama\", case=False) & kr1['Year'].isin([\"(2018)\"])]\n",
        "kr2018f = kr1.loc[kr1['Genre'].str.contains(\"Fantastic\", case=False) & kr1['Year'].isin([\"(2018)\"])]\n",
        "kr2018t = kr1.loc[kr1['Genre'].str.contains(\"Thriller\", case=False) & kr1['Year'].isin([\"(2018)\"])]"
      ],
      "metadata": {
        "id": "bU6NUB-DVV3c"
      },
      "execution_count": 192,
      "outputs": []
    },
    {
      "cell_type": "code",
      "source": [
        "avgkr2018c = kr2018c['Rating'].mean()\n",
        "avgkr2018r = kr2018r['Rating'].mean()\n",
        "avgkr2018d = kr2018d['Rating'].mean()\n",
        "avgkr2018f = kr2018f['Rating'].mean()\n",
        "avgkr2018t = kr2018t['Rating'].mean()\n",
        "\n",
        "countkr2018c = len(kr2018c)\n",
        "countkr2018r = len(kr2018r)\n",
        "countkr2018d = len(kr2018d)\n",
        "countkr2018f = len(kr2018f)\n",
        "countkr2018t = len(kr2018t)"
      ],
      "metadata": {
        "id": "z26265rniSsz"
      },
      "execution_count": 193,
      "outputs": []
    },
    {
      "cell_type": "code",
      "source": [
        "kr2019c = kr1.loc[kr1['Genre'].str.contains(\"Comedy\", case=False) & kr1['Year'].isin([\"(2019)\"])]\n",
        "kr2019r = kr1.loc[kr1['Genre'].str.contains(\"Romance\", case=False) & kr1['Year'].isin([\"(2019)\"])]\n",
        "kr2019d = kr1.loc[kr1['Genre'].str.contains(\"Drama\", case=False) & kr1['Year'].isin([\"(2019)\"])]\n",
        "kr2019f = kr1.loc[kr1['Genre'].str.contains(\"Fantastic\", case=False) & kr1['Year'].isin([\"(2019)\"])]\n",
        "kr2019t = kr1.loc[kr1['Genre'].str.contains(\"Thriller\", case=False) & kr1['Year'].isin([\"(2019)\"])]"
      ],
      "metadata": {
        "id": "UUpMsUeFiz3w"
      },
      "execution_count": 194,
      "outputs": []
    },
    {
      "cell_type": "code",
      "source": [
        "avgkr2019c = kr2019c['Rating'].mean()\n",
        "avgkr2019r = kr2019r['Rating'].mean()\n",
        "avgkr2019d = kr2019d['Rating'].mean()\n",
        "avgkr2019f = kr2019f['Rating'].mean()\n",
        "avgkr2019t = kr2019t['Rating'].mean()\n",
        "\n",
        "countkr2019c = len(kr2019c)\n",
        "countkr2019r = len(kr2019r)\n",
        "countkr2019d = len(kr2019d)\n",
        "countkr2019f = len(kr2019f)\n",
        "countkr2019t = len(kr2019t)"
      ],
      "metadata": {
        "id": "fWC5bkHKjBZ8"
      },
      "execution_count": 195,
      "outputs": []
    },
    {
      "cell_type": "code",
      "source": [
        "kr2020c = kr1.loc[kr1['Genre'].str.contains(\"Comedy\", case=False) & kr1['Year'].isin([\"(2020)\"])]\n",
        "kr2020r = kr1.loc[kr1['Genre'].str.contains(\"Romance\", case=False) & kr1['Year'].isin([\"(2020)\"])]\n",
        "kr2020d = kr1.loc[kr1['Genre'].str.contains(\"Drama\", case=False) & kr1['Year'].isin([\"(2020)\"])]\n",
        "kr2020f = kr1.loc[kr1['Genre'].str.contains(\"Fantastic\", case=False) & kr1['Year'].isin([\"(2020)\"])]\n",
        "kr2020t = kr1.loc[kr1['Genre'].str.contains(\"Thriller\", case=False) & kr1['Year'].isin([\"(2020)\"])]"
      ],
      "metadata": {
        "id": "Cnm-FWjxjRcN"
      },
      "execution_count": 196,
      "outputs": []
    },
    {
      "cell_type": "code",
      "source": [
        "avgkr2020c = kr2020c['Rating'].mean()\n",
        "avgkr2020r = kr2020r['Rating'].mean()\n",
        "avgkr2020d = kr2020d['Rating'].mean()\n",
        "avgkr2020f = kr2020f['Rating'].mean()\n",
        "avgkr2020t = kr2020t['Rating'].mean()\n",
        "\n",
        "countkr2020c = len(kr2020c)\n",
        "countkr2020r = len(kr2020r)\n",
        "countkr2020d = len(kr2020d)\n",
        "countkr2020f = len(kr2020f)\n",
        "countkr2020t = len(kr2020t)"
      ],
      "metadata": {
        "id": "Ek_yms7SjYsd"
      },
      "execution_count": 197,
      "outputs": []
    },
    {
      "cell_type": "code",
      "source": [
        "kr2021c = kr1.loc[kr1['Genre'].str.contains(\"Comedy\", case=False) & kr1['Year'].isin([\"(2021)\"])]\n",
        "kr2021r = kr1.loc[kr1['Genre'].str.contains(\"Romance\", case=False) & kr1['Year'].isin([\"(2021)\"])]\n",
        "kr2021d = kr1.loc[kr1['Genre'].str.contains(\"Drama\", case=False) & kr1['Year'].isin([\"(2021)\"])]\n",
        "kr2021f = kr1.loc[kr1['Genre'].str.contains(\"Fantastic\", case=False) & kr1['Year'].isin([\"(2021)\"])]\n",
        "kr2021t = kr1.loc[kr1['Genre'].str.contains(\"Thriller\", case=False) & kr1['Year'].isin([\"(2021)\"])]"
      ],
      "metadata": {
        "id": "qZozgm1KjhIH"
      },
      "execution_count": 198,
      "outputs": []
    },
    {
      "cell_type": "code",
      "source": [
        "avgkr2021c = kr2021c['Rating'].mean()\n",
        "avgkr2021r = kr2021r['Rating'].mean()\n",
        "avgkr2021d = kr2021d['Rating'].mean()\n",
        "avgkr2021f = kr2021f['Rating'].mean()\n",
        "avgkr2021t = kr2021t['Rating'].mean()\n",
        "\n",
        "countkr2021c = len(kr2021c)\n",
        "countkr2021r = len(kr2021r)\n",
        "countkr2021d = len(kr2021d)\n",
        "countkr2021f = len(kr2021f)\n",
        "countkr2021t = len(kr2021t)\n",
        "avgkr2021r"
      ],
      "metadata": {
        "colab": {
          "base_uri": "https://localhost:8080/"
        },
        "id": "0kpUaWs5jljy",
        "outputId": "7d7e2103-a74f-4fe5-d389-5173ea839dc6"
      },
      "execution_count": 199,
      "outputs": [
        {
          "output_type": "execute_result",
          "data": {
            "text/plain": [
              "7.272727272727274"
            ]
          },
          "metadata": {},
          "execution_count": 199
        }
      ]
    },
    {
      "cell_type": "code",
      "source": [
        "Comady = [countkr2016c, countkr2017c, countkr2018c, countkr2019c, countkr2020c, countkr2021c]\n",
        "ComadyRating = [avgkr2016c, avgkr2017c, avgkr2018c, avgkr2019c, avgkr2020c, avgkr2021c]\n",
        "\n",
        "Romance = [countkr2016r, countkr2017r, countkr2018r, countkr2019r, countkr2020r, countkr2021r]\n",
        "RomanceRating = [avgkr2016r, avgkr2017r, avgkr2018r, avgkr2019r, avgkr2020r, avgkr2021r]\n",
        "\n",
        "Drama = [countkr2016d, countkr2017d, countkr2018d, countkr2019d, countkr2020d, countkr2021d]\n",
        "DramaRating = [avgkr2016d, avgkr2017d, avgkr2018d, avgkr2019d, avgkr2020d, avgkr2021d]\n",
        "\n",
        "Fantastic = [countkr2016f, countkr2017f, countkr2018f, countkr2019f, countkr2020f, countkr2021f]\n",
        "FantasticRating = [avgkr2016f, avgkr2017f, avgkr2018f, avgkr2019f, avgkr2020f, avgkr2021f]\n",
        "\n",
        "Thriller = [countkr2016t, countkr2017t, countkr2018t, countkr2019t, countkr2020t, countkr2021t]\n",
        "ThrillerRating = [avgkr2016t, avgkr2017t, avgkr2018t, avgkr2019t, avgkr2020t, avgkr2021t]"
      ],
      "metadata": {
        "id": "_EVsPojap94o"
      },
      "execution_count": 200,
      "outputs": []
    },
    {
      "cell_type": "code",
      "source": [
        "\n",
        "index = ['2016', '2017', '2018',\n",
        "         '2019', '2020', '2021']\n",
        "df = pd.DataFrame({'ComadyRating' : ComadyRating,\n",
        "                   'RomanceRating' : RomanceRating,\n",
        "                   'DramaRating' : DramaRating,\n",
        "                   'FantasticRating' : FantasticRating,\n",
        "                   'ThrillerRating' : ThrillerRating\n",
        "                   }, index=index)\n",
        "ax = df.plot.line(rot=0,marker=\"o\")\n"
      ],
      "metadata": {
        "colab": {
          "base_uri": "https://localhost:8080/",
          "height": 265
        },
        "id": "XwYq3LWSkg-x",
        "outputId": "0a9fc07c-5522-43e8-8c1e-162290640bd1"
      },
      "execution_count": 213,
      "outputs": [
        {
          "output_type": "display_data",
          "data": {
            "text/plain": [
              "<Figure size 432x288 with 1 Axes>"
            ],
            "image/png": "[encoded data removed]"
          },
          "metadata": {
            "needs_background": "light"
          }
        }
      ]
    },
    {
      "cell_type": "code",
      "source": [
        "index = ['2016', '2017', '2018',\n",
        "         '2019', '2020', '2021']\n",
        "df = pd.DataFrame({'Comady': Comady,\n",
        "                   'Romance': Romance, \n",
        "                   'Drama': Drama,\n",
        "                   'Fantastic' : Fantastic, \n",
        "                   'Thriller' : Thriller,\n",
        "                   }, index=index)\n",
        "ax = df.plot.barh()\n",
        "ax.set_xlabel('Number of movies')\n"
      ],
      "metadata": {
        "colab": {
          "base_uri": "https://localhost:8080/",
          "height": 296
        },
        "id": "RYQzoGLvhWFH",
        "outputId": "4e9638d0-724f-4cd5-d0a2-08ba27dcb056"
      },
      "execution_count": 204,
      "outputs": [
        {
          "output_type": "execute_result",
          "data": {
            "text/plain": [
              "Text(0.5, 0, 'Number of movies')"
            ]
          },
          "metadata": {},
          "execution_count": 204
        },
        {
          "output_type": "display_data",
          "data": {
            "text/plain": [
              "<Figure size 432x288 with 1 Axes>"
            ],
            "image/png": "[encoded data removed]"
          },
          "metadata": {
            "needs_background": "light"
          }
        }
      ]
    },
    {
      "cell_type": "code",
      "source": [
        "\n",
        "index = ['2016', '2017', '2018',\n",
        "         '2019', '2020', '2021']\n",
        "df = pd.DataFrame({'Comady': Comady,\n",
        "                   'ComadyRating' : ComadyRating,\n",
        "                   'Romance': Romance, \n",
        "                   'RomanceRating' : RomanceRating,\n",
        "                   'Drama': Drama,\n",
        "                   'DramaRating' : DramaRating,\n",
        "                   'Fantastic' : Fantastic, \n",
        "                   'FantasticRating' : FantasticRating,\n",
        "                   'Thriller' : Thriller,\n",
        "                   'ThrillerRating' : ThrillerRating\n",
        "                   }, index=index)\n",
        "ax = df.plot.barh()\n",
        "\n",
        "\n"
      ],
      "metadata": {
        "colab": {
          "base_uri": "https://localhost:8080/",
          "height": 265
        },
        "id": "9YDDQlxcYP1C",
        "outputId": "039d9ea3-29f3-45a3-a332-050f348130e1"
      },
      "execution_count": 205,
      "outputs": [
        {
          "output_type": "display_data",
          "data": {
            "text/plain": [
              "<Figure size 432x288 with 1 Axes>"
            ],
            "image/png": "[encoded data removed]"
          },
          "metadata": {
            "needs_background": "light"
          }
        }
      ]
    }
  ]
}