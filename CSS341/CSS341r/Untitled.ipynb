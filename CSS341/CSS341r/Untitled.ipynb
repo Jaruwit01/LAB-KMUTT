{
 "cells": [
  {
   "cell_type": "code",
   "execution_count": 1,
   "metadata": {},
   "outputs": [],
   "source": [
    "import numpy as np\n",
    "import math\n",
    "import matplotlib.pyplot as plt\n",
    "import scipy.optimize as opt\n",
    "from scipy.optimize import linprog"
   ]
  },
  {
   "cell_type": "code",
   "execution_count": 2,
   "metadata": {},
   "outputs": [
    {
     "name": "stdout",
     "output_type": "stream",
     "text": [
      "           con: array([0.])\n",
      " crossover_nit: 0\n",
      "         eqlin:  marginals: array([-2.])\n",
      "  residual: array([0.])\n",
      "           fun: -21.633307652783937\n",
      "       ineqlin:  marginals: array([-1.])\n",
      "  residual: array([0.])\n",
      "         lower:  marginals: array([0., 0.])\n",
      "  residual: array([10.81665383, 21.63330765])\n",
      "       message: 'Optimization terminated successfully. (HiGHS Status 7: Optimal)'\n",
      "           nit: 0\n",
      "         slack: array([0.])\n",
      "        status: 0\n",
      "       success: True\n",
      "         upper:  marginals: array([0., 0.])\n",
      "  residual: array([inf, inf])\n",
      "             x: array([10.81665383, 21.63330765])\n"
     ]
    }
   ],
   "source": [
    "a = 6\n",
    "b = 9\n",
    "c = np.array([[0, -1.0]])\n",
    "lhs_ineq = np.array([[-2.0, 1.0]])\n",
    "rhs_ineq = np.array([[0.0]])\n",
    "lhs_eq = np.array([[1,0]])\n",
    "rhs_eq = np.array([[math.sqrt(117)]])\n",
    "                 \n",
    "                \n",
    "x0_bounds = (0, None)\n",
    "x1_bounds = (0, None)\n",
    "bounds = [x0_bounds, x1_bounds]\n",
    "\n",
    "result = linprog(c, A_ub=lhs_ineq, b_ub=rhs_ineq, A_eq=lhs_eq, b_eq=rhs_eq, bounds=bounds)\n",
    "\n",
    "print(result)"
   ]
  },
  {
   "cell_type": "code",
   "execution_count": 3,
   "metadata": {},
   "outputs": [],
   "source": [
    "a = 6\n",
    "b = 9\n",
    "c = np.array([[0, 0, 1]])\n",
    "lhs_ineq = np.array([[1.0, 1.0, 0]])\n",
    "rhs_ineq = np.array([[9*math.sqrt(2)]])\n",
    "lhs_eq = np.array([[0, 0, 1]])\n",
    "rhs_eq = np.array([])"
   ]
  },
  {
   "cell_type": "code",
   "execution_count": 14,
   "metadata": {},
   "outputs": [],
   "source": [
    "import numpy as np\n",
    "from scipy.optimize import minimize"
   ]
  },
  {
   "cell_type": "code",
   "execution_count": 15,
   "metadata": {},
   "outputs": [],
   "source": [
    "def objective(x):\n",
    "    return 5.3578547 * x[2] * x[2] + 0.8356891 * x[0] * x[4] + 37.293239 * x[0] - 40792.141\n",
    "\n",
    "def constraint1(x):\n",
    "    return 85.334407 + 0.0056858 * x[1] * x[4] + 0.0006262 * x[0] * x[3] - 0.0022053 * x[2] * x[4] - 92\n",
    "\n",
    "def constraint2(x):\n",
    "    return -85.334407 - 0.0056858 * x[1] * x[4] - 0.0006262 * x[0] * x[3] + 0.0022053 * x[2] * x[4]\n",
    "\n",
    "def constraint3(x):\n",
    "    return 80.51249 + 0.0071317 * x[1] * x[4] + 0.0029955 * x[0] * x[1] + 0.0021813 * x[2] * x[2] - 110\n",
    "\n",
    "def constraint4(x):\n",
    "    return -80.51249 - 0.0071317 * x[1] * x[4] - 0.0029955 * x[0] * x[1] - 0.0021813 * x[2] * x[2] + 90\n",
    "\n",
    "def constraint5(x):\n",
    "    return 9.300961 + 0.0047026 * x[2] * x[4] + 0.0012547 * x[0] * x[2] + 0.0019085 * x[2] * x[3] - 25\n",
    "\n",
    "def constraint6(x):\n",
    "    return -9.300961 - 0.0047026 * x[2] * x[4] - 0.0012547 * x[0] * x[2] - 0.0019085 * x[2] * x[3] + 20"
   ]
  },
  {
   "cell_type": "code",
   "execution_count": 25,
   "metadata": {},
   "outputs": [
    {
     "name": "stdout",
     "output_type": "stream",
     "text": [
      "Initial Objective: -40748.654217200004\n"
     ]
    }
   ],
   "source": [
    "# initial guesses\n",
    "x0 = np.zeros(5)\n",
    "x0[0] = 1\n",
    "x0[1] = 1\n",
    "x0[2] = 1\n",
    "x0[3] = 1\n",
    "x0[4] = 1\n",
    "\n",
    "# show initial objective\n",
    "print('Initial Objective:', objective(x0))\n",
    "\n",
    "# set boundaries\n",
    "b = (None, None)\n",
    "\n",
    "# set constraints\n",
    "c1 = {'type': 'ineq', 'fun': constraint1}\n",
    "c2 = {'type': 'ineq', 'fun': constraint2}\n",
    "c3 = {'type': 'ineq', 'fun': constraint3}\n",
    "c4 = {'type': 'ineq', 'fun': constraint4}\n",
    "c5 = {'type': 'ineq', 'fun': constraint5}\n",
    "c6 = {'type': 'ineq', 'fun': constraint6}"
   ]
  },
  {
   "cell_type": "code",
   "execution_count": 26,
   "metadata": {},
   "outputs": [
    {
     "name": "stdout",
     "output_type": "stream",
     "text": [
      "Final Objective:  -1215130385.1610842\n",
      "Solution\n",
      "x1 = -58783.52470925429\n",
      "x2 = -6338.862735850245\n",
      "x3 = 0.10359740523413105\n",
      "x4 = -24172.365642135173\n",
      "x5 = 24690.14791586574\n"
     ]
    }
   ],
   "source": [
    "solution = minimize(objective, x0, method='SLSQP', \n",
    "                    bounds=[b, b, b, b, b], constraints=[c1, c2, c3, c4, c5, c6])\n",
    "x = solution.x\n",
    "\n",
    "# show final objective\n",
    "print('Final Objective: ', objective(x))\n",
    "\n",
    "# print solution\n",
    "print('Solution')\n",
    "print('x1 =', x[0])\n",
    "print('x2 =', x[1])\n",
    "print('x3 =', x[2])\n",
    "print('x4 =', x[3])\n",
    "print('x5 =', x[4])"
   ]
  },
  {
   "cell_type": "code",
   "execution_count": 27,
   "metadata": {},
   "outputs": [
    {
     "data": {
      "text/plain": [
       "     fun: -1215130385.1610842\n",
       "     jac: array([ 20672.,      0.,      0.,      0., -49120.])\n",
       " message: 'Inequality constraints incompatible'\n",
       "    nfev: 491\n",
       "     nit: 41\n",
       "    njev: 41\n",
       "  status: 4\n",
       " success: False\n",
       "       x: array([-5.87835247e+04, -6.33886274e+03,  1.03597405e-01, -2.41723656e+04,\n",
       "        2.46901479e+04])"
      ]
     },
     "execution_count": 27,
     "metadata": {},
     "output_type": "execute_result"
    }
   ],
   "source": [
    "solution"
   ]
  },
  {
   "cell_type": "code",
   "execution_count": null,
   "metadata": {},
   "outputs": [],
   "source": [
    "\n"
   ]
  },
  {
   "cell_type": "code",
   "execution_count": null,
   "metadata": {},
   "outputs": [],
   "source": []
  },
  {
   "cell_type": "code",
   "execution_count": null,
   "metadata": {},
   "outputs": [],
   "source": []
  },
  {
   "cell_type": "code",
   "execution_count": null,
   "metadata": {},
   "outputs": [],
   "source": []
  },
  {
   "cell_type": "code",
   "execution_count": null,
   "metadata": {},
   "outputs": [],
   "source": []
  },
  {
   "cell_type": "code",
   "execution_count": null,
   "metadata": {},
   "outputs": [],
   "source": []
  },
  {
   "cell_type": "code",
   "execution_count": 14,
   "metadata": {},
   "outputs": [],
   "source": [
    "#3"
   ]
  },
  {
   "cell_type": "code",
   "execution_count": null,
   "metadata": {},
   "outputs": [],
   "source": []
  }
 ],
 "metadata": {
  "kernelspec": {
   "display_name": "Python 3 (ipykernel)",
   "language": "python",
   "name": "python3"
  },
  "language_info": {
   "codemirror_mode": {
    "name": "ipython",
    "version": 3
   },
   "file_extension": ".py",
   "mimetype": "text/x-python",
   "name": "python",
   "nbconvert_exporter": "python",
   "pygments_lexer": "ipython3",
   "version": "3.10.8"
  }
 },
 "nbformat": 4,
 "nbformat_minor": 4
}
