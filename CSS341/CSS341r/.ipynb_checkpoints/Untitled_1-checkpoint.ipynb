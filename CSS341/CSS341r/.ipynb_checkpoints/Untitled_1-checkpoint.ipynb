{
 "cells": [
  {
   "cell_type": "code",
   "execution_count": 2,
   "metadata": {},
   "outputs": [],
   "source": [
    "import numpy as np\n",
    "from scipy.optimize import minimize"
   ]
  },
  {
   "cell_type": "code",
   "execution_count": 3,
   "metadata": {},
   "outputs": [],
   "source": [
    "def objective(x):\n",
    "    return 5.3578547 * x[2] * x[2] + 0.8356891 * x[0] * x[4] + 37.293239 * x[0] - 40792.141\n",
    "\n",
    "def constraint1(x):\n",
    "    return 85.334407 + 0.0056858 * x[1] * x[4] + 0.0006262 * x[0] * x[3] - 0.0022053 * x[2] * x[4] - 92\n",
    "\n",
    "def constraint2(x):\n",
    "    return -85.334407 - 0.0056858 * x[1] * x[4] - 0.0006262 * x[0] * x[3] + 0.0022053 * x[2] * x[4]\n",
    "\n",
    "def constraint3(x):\n",
    "    return 80.51249 + 0.0071317 * x[1] * x[4] + 0.0029955 * x[0] * x[1] + 0.0021813 * x[2] * x[2] - 110\n",
    "\n",
    "def constraint4(x):\n",
    "    return -80.51249 - 0.0071317 * x[1] * x[4] - 0.0029955 * x[0] * x[1] - 0.0021813 * x[2] * x[2] + 90\n",
    "\n",
    "def constraint5(x):\n",
    "    return 9.300961 + 0.0047026 * x[2] * x[4] + 0.0012547 * x[0] * x[2] + 0.0019085 * x[2] * x[3] - 25\n",
    "\n",
    "def constraint6(x):\n",
    "    return -9.300961 - 0.0047026 * x[2] * x[4] - 0.0012547 * x[0] * x[2] - 0.0019085 * x[2] * x[3] + 20"
   ]
  },
  {
   "cell_type": "code",
   "execution_count": 5,
   "metadata": {},
   "outputs": [
    {
     "name": "stdout",
     "output_type": "stream",
     "text": [
      "Initial Objective: -28239.956817500002\n"
     ]
    }
   ],
   "source": [
    "# initial guesses\n",
    "x0 = np.zeros(5)\n",
    "x0[0] = 90\n",
    "x0[1] = 39\n",
    "x0[2] = 35\n",
    "x0[3] = 35\n",
    "x0[4] = 35\n",
    "\"\"\"\n",
    "x0 = np.zeros(5)\n",
    "x0[0] = 101\n",
    "x0[1] = 44\n",
    "x0[2] = 44\n",
    "x0[3] = 44\n",
    "x0[4] = 44\n",
    "\"\"\"\n",
    "print('Initial Objective:', objective(x0))\n",
    "b_c1 = (78, 102)\n",
    "b_c2 = (33, 45)\n",
    "b_c3 = (27, 45)\n",
    "b_c4 = (27, 45)\n",
    "b_c5 = (27, 45)\n",
    "# set constraints\n",
    "c1 = {'type': 'ineq', 'fun': constraint1}\n",
    "c2 = {'type': 'ineq', 'fun': constraint2}\n",
    "c3 = {'type': 'ineq', 'fun': constraint3}\n",
    "c4 = {'type': 'ineq', 'fun': constraint4}\n",
    "c5 = {'type': 'ineq', 'fun': constraint5}\n",
    "c6 = {'type': 'ineq', 'fun': constraint6}"
   ]
  },
  {
   "cell_type": "code",
   "execution_count": 45,
   "metadata": {},
   "outputs": [
    {
     "name": "stdout",
     "output_type": "stream",
     "text": [
      "Final Objective:  -28545.491264657074\n",
      "Solution\n",
      "x1 = 78.0\n",
      "x2 = 38.50664444507395\n",
      "x3 = 35.305602409585184\n",
      "x4 = 27.0\n",
      "x5 = 40.7968025361768\n"
     ]
    }
   ],
   "source": [
    "# perform optimization and report results\n",
    "\n",
    "solution = minimize(objective, x0, method='SLSQP', \n",
    "                    bounds=[b_c1, b_c2, b_c3, b_c4, b_c5], constraints=[c1, c2, c3, c4, c5])\n",
    "x = solution.x\n",
    "\n",
    "# show final objective\n",
    "print('Final Objective: ', objective(x))\n",
    "\n",
    "# print solution\n",
    "print('Solution')\n",
    "print('x1 =', x[0])\n",
    "print('x2 =', x[1])\n",
    "print('x3 =', x[2])\n",
    "print('x4 =', x[3])\n",
    "print('x5 =', x[4])"
   ]
  },
  {
   "cell_type": "code",
   "execution_count": 33,
   "metadata": {},
   "outputs": [],
   "source": [
    "from scipy.optimize import differential_evolution\n",
    "import numpy as np\n",
    "from scipy.optimize import minimize"
   ]
  },
  {
   "cell_type": "code",
   "execution_count": null,
   "metadata": {},
   "outputs": [],
   "source": []
  },
  {
   "cell_type": "code",
   "execution_count": 34,
   "metadata": {
    "jupyter": {
     "source_hidden": true
    }
   },
   "outputs": [],
   "source": [
    "#objective function \n",
    "def f(x):\n",
    "    return 5.3578547 * x[2] * x[2] + 0.8356891 * x[0] * x[4] + 37.293239 * x[0] - 40792.141\n",
    "#constraints\n",
    "def g1(x):\n",
    "    return 85.334407 + 0.0056858 * x[1] * x[4] + 0.0006262 * x[0] * x[3] - 0.0022053 * x[2] * x[4] - 92\n",
    "def g2(x):\n",
    "    return -85.334407 - 0.0056858 * x[1] * x[4] - 0.0006262 * x[0] * x[3] + 0.0022053 * x[2] * x[4]\n",
    "def g3(x):\n",
    "    return 80.51249 + 0.0071317 * x[1] * x[4] + 0.0029955 * x[0] * x[1] + 0.0021813 * x[2] * x[2] - 110\n",
    "def g4(x):\n",
    "    return -80.51249 - 0.0071317 * x[1] * x[4] - 0.0029955 * x[0] * x[1] - 0.0021813 * x[2] * x[2] + 90\n",
    "def g5(x):\n",
    "    return 9.300961 + 0.0047026 * x[2] * x[4] + 0.0012547 * x[0] * x[2] + 0.0019085 * x[2] * x[3] - 25\n",
    "def g6(x): \n",
    "    return -9.300961 - 0.0047026 * x[2] * x[4] - 0.0012547 * x[0] * x[2] - 0.0019085 * x[2] * x[3] + 20"
   ]
  },
  {
   "cell_type": "code",
   "execution_count": 37,
   "metadata": {},
   "outputs": [
    {
     "data": {
      "text/plain": [
       "[[-2000, 2000], [-2000, 2000], [-2000, 2000], [-2000, 2000], [-2000, 2000]]"
      ]
     },
     "execution_count": 37,
     "metadata": {},
     "output_type": "execute_result"
    }
   ],
   "source": [
    "from scipy.optimize import NonlinearConstraint, Bounds\n",
    "nlc1 = NonlinearConstraint(g1, -np.inf, np.inf)\n",
    "nlc2 = NonlinearConstraint(g2, -np.inf, np.inf)\n",
    "nlc3 = NonlinearConstraint(g3, -np.inf, np.inf)\n",
    "nlc4 = NonlinearConstraint(g4, -np.inf, np.inf)\n",
    "nlc5 = NonlinearConstraint(g5, -np.inf, np.inf)\n",
    "nlc6 = NonlinearConstraint(g6, -np.inf, np.inf)\n",
    "bounds = []\n",
    "for i in range(5):\n",
    "    bounds.append([-2000,2000])\n",
    "bounds"
   ]
  },
  {
   "cell_type": "code",
   "execution_count": 38,
   "metadata": {},
   "outputs": [
    {
     "name": "stdout",
     "output_type": "stream",
     "text": [
      "           constr: [array([0.]), array([0.]), array([0.]), array([0.]), array([0.]), array([0.])]\n",
      " constr_violation: 0.0\n",
      "              fun: -3458135.0189860812\n",
      "              jac: [array([[ -0.44845261,  11.37047247,  -4.41015625,  -1.25213288,\n",
      "        -10.34384507]]), array([[  0.44845261, -11.37047247,   4.41015625,   1.25213288,\n",
      "         10.34384507]]), array([[-5.44922208e+00,  8.27226226e+00,  1.22070312e-03,\n",
      "        -0.00000000e+00, -1.29735327e+01]]), array([[ 5.44922208e+00, -8.27226226e+00, -1.22070312e-03,\n",
      "        -0.00000000e+00,  1.29735327e+01]]), array([[ 3.42064963e-04, -0.00000000e+00,  5.52863121e+00,\n",
      "         5.20308467e-04,  1.28205518e-03]]), array([[-3.42064963e-04, -0.00000000e+00, -5.52863121e+00,\n",
      "        -5.20308467e-04, -1.28205518e-03]]), array([[1., 0., 0., 0., 0.],\n",
      "       [0., 1., 0., 0., 0.],\n",
      "       [0., 0., 1., 0., 0.],\n",
      "       [0., 0., 0., 1., 0.],\n",
      "       [0., 0., 0., 0., 1.]])]\n",
      "            maxcv: 0.0\n",
      "          message: 'Optimization terminated successfully.'\n",
      "             nfev: 2097\n",
      "              nit: 26\n",
      "          success: True\n",
      "                x: array([-2.00000000e+03, -1.81912842e+03, -4.56906832e-04, -7.16148726e+02,\n",
      "        2.00000000e+03])\n"
     ]
    }
   ],
   "source": [
    "result2000 = differential_evolution(f, seed=123, bounds=bounds, constraints=(nlc1,nlc2,nlc3,nlc4,nlc5,nlc6))\n",
    "print(result2000)"
   ]
  },
  {
   "cell_type": "code",
   "execution_count": null,
   "metadata": {},
   "outputs": [],
   "source": []
  }
 ],
 "metadata": {
  "kernelspec": {
   "display_name": "Python 3 (ipykernel)",
   "language": "python",
   "name": "python3"
  },
  "language_info": {
   "codemirror_mode": {
    "name": "ipython",
    "version": 3
   },
   "file_extension": ".py",
   "mimetype": "text/x-python",
   "name": "python",
   "nbconvert_exporter": "python",
   "pygments_lexer": "ipython3",
   "version": "3.10.8"
  }
 },
 "nbformat": 4,
 "nbformat_minor": 4
}
