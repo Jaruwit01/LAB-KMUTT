{
 "cells": [
  {
   "cell_type": "markdown",
   "metadata": {
    "tags": []
   },
   "source": [
    "# Exam 3\n",
    "## 64090500407 นายวรินทร สิทธิสินธุ์\n",
    "## 64090500421 นายวัชรพล ตรีสัตยสกุล\n",
    "## 64090500441 นายพงศ์โพยม  มนพลับ\n",
    "## 64090500451 นายสิรภัทร  นิลประเสริฐ"
   ]
  },
  {
   "cell_type": "markdown",
   "metadata": {
    "id": "rrVSWxCJ60v8",
    "tags": []
   },
   "source": [
    "## ข้อ 1"
   ]
  },
  {
   "cell_type": "markdown",
   "metadata": {
    "id": "uuQO1URM65Cz"
   },
   "source": [
    "### 1.1"
   ]
  },
  {
   "cell_type": "code",
   "execution_count": 38,
   "metadata": {
    "id": "WgD57fpU6-G3"
   },
   "outputs": [],
   "source": [
    "import pandas as pd\n",
    "import numpy as np"
   ]
  },
  {
   "cell_type": "code",
   "execution_count": 39,
   "metadata": {
    "colab": {
     "base_uri": "https://localhost:8080/",
     "height": 270
    },
    "id": "K73DlTTM7AQe",
    "outputId": "c7ec1d56-e934-471b-f5ac-bcdd2234e656"
   },
   "outputs": [
    {
     "data": {
      "text/html": [
       "<div>\n",
       "<style scoped>\n",
       "    .dataframe tbody tr th:only-of-type {\n",
       "        vertical-align: middle;\n",
       "    }\n",
       "\n",
       "    .dataframe tbody tr th {\n",
       "        vertical-align: top;\n",
       "    }\n",
       "\n",
       "    .dataframe thead th {\n",
       "        text-align: right;\n",
       "    }\n",
       "</style>\n",
       "<table border=\"1\" class=\"dataframe\">\n",
       "  <thead>\n",
       "    <tr style=\"text-align: right;\">\n",
       "      <th></th>\n",
       "      <th>ID</th>\n",
       "      <th>BirthYear</th>\n",
       "      <th>Education</th>\n",
       "      <th>Marital_Status</th>\n",
       "      <th>Income</th>\n",
       "      <th>NKids</th>\n",
       "      <th>EnrollDate</th>\n",
       "      <th>Recency</th>\n",
       "      <th>Complain</th>\n",
       "      <th>AmtFruits</th>\n",
       "      <th>AmtMeats</th>\n",
       "      <th>AmtFish</th>\n",
       "      <th>AmtSweets</th>\n",
       "      <th>AmtGold</th>\n",
       "      <th>NumWebPurchases</th>\n",
       "      <th>NumCatalogPurchases</th>\n",
       "      <th>NumStorePurchases</th>\n",
       "      <th>NumDiscPurchases</th>\n",
       "      <th>AccCampaign</th>\n",
       "      <th>Response</th>\n",
       "    </tr>\n",
       "  </thead>\n",
       "  <tbody>\n",
       "    <tr>\n",
       "      <th>0</th>\n",
       "      <td>1</td>\n",
       "      <td>1985</td>\n",
       "      <td>Graduation</td>\n",
       "      <td>Married</td>\n",
       "      <td>70951.0</td>\n",
       "      <td>0</td>\n",
       "      <td>4/5/2013</td>\n",
       "      <td>66</td>\n",
       "      <td>0</td>\n",
       "      <td>10</td>\n",
       "      <td>554</td>\n",
       "      <td>254</td>\n",
       "      <td>87</td>\n",
       "      <td>54</td>\n",
       "      <td>3</td>\n",
       "      <td>4</td>\n",
       "      <td>9</td>\n",
       "      <td>1</td>\n",
       "      <td>None</td>\n",
       "      <td>No</td>\n",
       "    </tr>\n",
       "    <tr>\n",
       "      <th>1</th>\n",
       "      <td>2</td>\n",
       "      <td>1961</td>\n",
       "      <td>Graduation</td>\n",
       "      <td>Single</td>\n",
       "      <td>57091.0</td>\n",
       "      <td>0</td>\n",
       "      <td>15/6/2014</td>\n",
       "      <td>0</td>\n",
       "      <td>0</td>\n",
       "      <td>5</td>\n",
       "      <td>64</td>\n",
       "      <td>7</td>\n",
       "      <td>0</td>\n",
       "      <td>37</td>\n",
       "      <td>7</td>\n",
       "      <td>3</td>\n",
       "      <td>7</td>\n",
       "      <td>1</td>\n",
       "      <td>Second</td>\n",
       "      <td>Yes</td>\n",
       "    </tr>\n",
       "    <tr>\n",
       "      <th>2</th>\n",
       "      <td>3</td>\n",
       "      <td>1975</td>\n",
       "      <td>Master</td>\n",
       "      <td>Single</td>\n",
       "      <td>46098.0</td>\n",
       "      <td>2</td>\n",
       "      <td>18/8/2012</td>\n",
       "      <td>86</td>\n",
       "      <td>0</td>\n",
       "      <td>0</td>\n",
       "      <td>27</td>\n",
       "      <td>0</td>\n",
       "      <td>0</td>\n",
       "      <td>36</td>\n",
       "      <td>3</td>\n",
       "      <td>2</td>\n",
       "      <td>2</td>\n",
       "      <td>4</td>\n",
       "      <td>None</td>\n",
       "      <td>No</td>\n",
       "    </tr>\n",
       "    <tr>\n",
       "      <th>3</th>\n",
       "      <td>4</td>\n",
       "      <td>1947</td>\n",
       "      <td>PhD</td>\n",
       "      <td>Widow</td>\n",
       "      <td>25358.0</td>\n",
       "      <td>1</td>\n",
       "      <td>22/7/2013</td>\n",
       "      <td>57</td>\n",
       "      <td>0</td>\n",
       "      <td>0</td>\n",
       "      <td>5</td>\n",
       "      <td>0</td>\n",
       "      <td>0</td>\n",
       "      <td>8</td>\n",
       "      <td>1</td>\n",
       "      <td>0</td>\n",
       "      <td>3</td>\n",
       "      <td>2</td>\n",
       "      <td>None</td>\n",
       "      <td>No</td>\n",
       "    </tr>\n",
       "    <tr>\n",
       "      <th>4</th>\n",
       "      <td>5</td>\n",
       "      <td>1971</td>\n",
       "      <td>PhD</td>\n",
       "      <td>Married</td>\n",
       "      <td>60491.0</td>\n",
       "      <td>1</td>\n",
       "      <td>6/9/2013</td>\n",
       "      <td>81</td>\n",
       "      <td>0</td>\n",
       "      <td>47</td>\n",
       "      <td>237</td>\n",
       "      <td>12</td>\n",
       "      <td>19</td>\n",
       "      <td>76</td>\n",
       "      <td>6</td>\n",
       "      <td>11</td>\n",
       "      <td>7</td>\n",
       "      <td>4</td>\n",
       "      <td>None</td>\n",
       "      <td>No</td>\n",
       "    </tr>\n",
       "  </tbody>\n",
       "</table>\n",
       "</div>"
      ],
      "text/plain": [
       "   ID  BirthYear   Education Marital_Status   Income  NKids EnrollDate  \\\n",
       "0   1       1985  Graduation        Married  70951.0      0   4/5/2013   \n",
       "1   2       1961  Graduation         Single  57091.0      0  15/6/2014   \n",
       "2   3       1975      Master         Single  46098.0      2  18/8/2012   \n",
       "3   4       1947         PhD          Widow  25358.0      1  22/7/2013   \n",
       "4   5       1971         PhD        Married  60491.0      1   6/9/2013   \n",
       "\n",
       "   Recency  Complain  AmtFruits  AmtMeats  AmtFish  AmtSweets  AmtGold  \\\n",
       "0       66         0         10       554      254         87       54   \n",
       "1        0         0          5        64        7          0       37   \n",
       "2       86         0          0        27        0          0       36   \n",
       "3       57         0          0         5        0          0        8   \n",
       "4       81         0         47       237       12         19       76   \n",
       "\n",
       "   NumWebPurchases  NumCatalogPurchases  NumStorePurchases  NumDiscPurchases  \\\n",
       "0                3                    4                  9                 1   \n",
       "1                7                    3                  7                 1   \n",
       "2                3                    2                  2                 4   \n",
       "3                1                    0                  3                 2   \n",
       "4                6                   11                  7                 4   \n",
       "\n",
       "  AccCampaign Response  \n",
       "0        None       No  \n",
       "1      Second      Yes  \n",
       "2        None       No  \n",
       "3        None       No  \n",
       "4        None       No  "
      ]
     },
     "execution_count": 39,
     "metadata": {},
     "output_type": "execute_result"
    }
   ],
   "source": [
    "df = pd.read_csv('../data/marketing.csv')\n",
    "df.head()"
   ]
  },
  {
   "cell_type": "code",
   "execution_count": 40,
   "metadata": {
    "colab": {
     "base_uri": "https://localhost:8080/"
    },
    "id": "ZtT8fMRI7B0T",
    "outputId": "f136f9f4-66e8-4ef5-a4f4-cddb248ae0c2"
   },
   "outputs": [
    {
     "data": {
      "text/plain": [
       "ID                      0\n",
       "BirthYear               0\n",
       "Education               0\n",
       "Marital_Status          0\n",
       "Income                 24\n",
       "NKids                   0\n",
       "EnrollDate              0\n",
       "Recency                 0\n",
       "Complain                0\n",
       "AmtFruits               0\n",
       "AmtMeats                0\n",
       "AmtFish                 0\n",
       "AmtSweets               0\n",
       "AmtGold                 0\n",
       "NumWebPurchases         0\n",
       "NumCatalogPurchases     0\n",
       "NumStorePurchases       0\n",
       "NumDiscPurchases        0\n",
       "AccCampaign             0\n",
       "Response                0\n",
       "dtype: int64"
      ]
     },
     "execution_count": 40,
     "metadata": {},
     "output_type": "execute_result"
    }
   ],
   "source": [
    "#check ว่ามี null หรือปล่าว\n",
    "df.isnull().sum()"
   ]
  },
  {
   "cell_type": "code",
   "execution_count": 41,
   "metadata": {
    "id": "C9L5-ySc7DqI"
   },
   "outputs": [],
   "source": [
    "#ลบข้อมูลที่เป็น outlier ซึ่งมีคนนึงรายได้ 666,666\n",
    "indexAge = df[df['Income'] > 300000].index\n",
    "df.drop(indexAge , inplace=True)"
   ]
  },
  {
   "cell_type": "code",
   "execution_count": 42,
   "metadata": {
    "id": "ug30iWzV7Gn-"
   },
   "outputs": [],
   "source": [
    "#เติมข้อมูลที่เป็น null\n",
    "df['Income'] = df['Income'].fillna(df['Income'].mean())\n",
    "#เปลี่ยนข้อมูลจากปีให้เป็นระยะเวลาแทน\n",
    "df['EnrollDate'] = pd.to_datetime(df['EnrollDate']).dt.year\n",
    "df['BirthYear'] = 2022 - df[\"BirthYear\"]\n",
    "df['EnrollDate'] = 2022 - df[\"EnrollDate\"]"
   ]
  },
  {
   "cell_type": "code",
   "execution_count": 43,
   "metadata": {
    "id": "IoKelOvQ7Hsq"
   },
   "outputs": [],
   "source": [
    "df = df.rename(columns={\"BirthYear\": \"Age\", \"EnrollDate\": \"Enrollyear\"})"
   ]
  },
  {
   "cell_type": "code",
   "execution_count": 44,
   "metadata": {
    "id": "Zosl2wVb7JYV"
   },
   "outputs": [],
   "source": [
    "#column ที่เป็นตัวหนังสือ\n",
    "col = ['Education','Marital_Status','AccCampaign']"
   ]
  },
  {
   "cell_type": "code",
   "execution_count": 45,
   "metadata": {
    "id": "F4GrEG3b7Lb6"
   },
   "outputs": [],
   "source": [
    "#ทำ one-hot encoding\n",
    "df = pd.get_dummies(df,prefix = col, columns = col)"
   ]
  },
  {
   "cell_type": "code",
   "execution_count": 46,
   "metadata": {
    "colab": {
     "base_uri": "https://localhost:8080/",
     "height": 488
    },
    "id": "wqeK-Wvv7NF7",
    "outputId": "7acf62dd-bede-4e2d-c16c-70ceae99e2a1"
   },
   "outputs": [
    {
     "data": {
      "text/html": [
       "<div>\n",
       "<style scoped>\n",
       "    .dataframe tbody tr th:only-of-type {\n",
       "        vertical-align: middle;\n",
       "    }\n",
       "\n",
       "    .dataframe tbody tr th {\n",
       "        vertical-align: top;\n",
       "    }\n",
       "\n",
       "    .dataframe thead th {\n",
       "        text-align: right;\n",
       "    }\n",
       "</style>\n",
       "<table border=\"1\" class=\"dataframe\">\n",
       "  <thead>\n",
       "    <tr style=\"text-align: right;\">\n",
       "      <th></th>\n",
       "      <th>ID</th>\n",
       "      <th>Age</th>\n",
       "      <th>Income</th>\n",
       "      <th>NKids</th>\n",
       "      <th>Enrollyear</th>\n",
       "      <th>Recency</th>\n",
       "      <th>Complain</th>\n",
       "      <th>AmtFruits</th>\n",
       "      <th>AmtMeats</th>\n",
       "      <th>AmtFish</th>\n",
       "      <th>...</th>\n",
       "      <th>Marital_Status_Divorced</th>\n",
       "      <th>Marital_Status_Married</th>\n",
       "      <th>Marital_Status_Single</th>\n",
       "      <th>Marital_Status_Together</th>\n",
       "      <th>Marital_Status_Widow</th>\n",
       "      <th>Marital_Status_YOLO</th>\n",
       "      <th>AccCampaign_Both</th>\n",
       "      <th>AccCampaign_First</th>\n",
       "      <th>AccCampaign_None</th>\n",
       "      <th>AccCampaign_Second</th>\n",
       "    </tr>\n",
       "  </thead>\n",
       "  <tbody>\n",
       "    <tr>\n",
       "      <th>0</th>\n",
       "      <td>1</td>\n",
       "      <td>37</td>\n",
       "      <td>70951.0</td>\n",
       "      <td>0</td>\n",
       "      <td>9</td>\n",
       "      <td>66</td>\n",
       "      <td>0</td>\n",
       "      <td>10</td>\n",
       "      <td>554</td>\n",
       "      <td>254</td>\n",
       "      <td>...</td>\n",
       "      <td>0</td>\n",
       "      <td>1</td>\n",
       "      <td>0</td>\n",
       "      <td>0</td>\n",
       "      <td>0</td>\n",
       "      <td>0</td>\n",
       "      <td>0</td>\n",
       "      <td>0</td>\n",
       "      <td>1</td>\n",
       "      <td>0</td>\n",
       "    </tr>\n",
       "    <tr>\n",
       "      <th>1</th>\n",
       "      <td>2</td>\n",
       "      <td>61</td>\n",
       "      <td>57091.0</td>\n",
       "      <td>0</td>\n",
       "      <td>8</td>\n",
       "      <td>0</td>\n",
       "      <td>0</td>\n",
       "      <td>5</td>\n",
       "      <td>64</td>\n",
       "      <td>7</td>\n",
       "      <td>...</td>\n",
       "      <td>0</td>\n",
       "      <td>0</td>\n",
       "      <td>1</td>\n",
       "      <td>0</td>\n",
       "      <td>0</td>\n",
       "      <td>0</td>\n",
       "      <td>0</td>\n",
       "      <td>0</td>\n",
       "      <td>0</td>\n",
       "      <td>1</td>\n",
       "    </tr>\n",
       "    <tr>\n",
       "      <th>2</th>\n",
       "      <td>3</td>\n",
       "      <td>47</td>\n",
       "      <td>46098.0</td>\n",
       "      <td>2</td>\n",
       "      <td>10</td>\n",
       "      <td>86</td>\n",
       "      <td>0</td>\n",
       "      <td>0</td>\n",
       "      <td>27</td>\n",
       "      <td>0</td>\n",
       "      <td>...</td>\n",
       "      <td>0</td>\n",
       "      <td>0</td>\n",
       "      <td>1</td>\n",
       "      <td>0</td>\n",
       "      <td>0</td>\n",
       "      <td>0</td>\n",
       "      <td>0</td>\n",
       "      <td>0</td>\n",
       "      <td>1</td>\n",
       "      <td>0</td>\n",
       "    </tr>\n",
       "    <tr>\n",
       "      <th>3</th>\n",
       "      <td>4</td>\n",
       "      <td>75</td>\n",
       "      <td>25358.0</td>\n",
       "      <td>1</td>\n",
       "      <td>9</td>\n",
       "      <td>57</td>\n",
       "      <td>0</td>\n",
       "      <td>0</td>\n",
       "      <td>5</td>\n",
       "      <td>0</td>\n",
       "      <td>...</td>\n",
       "      <td>0</td>\n",
       "      <td>0</td>\n",
       "      <td>0</td>\n",
       "      <td>0</td>\n",
       "      <td>1</td>\n",
       "      <td>0</td>\n",
       "      <td>0</td>\n",
       "      <td>0</td>\n",
       "      <td>1</td>\n",
       "      <td>0</td>\n",
       "    </tr>\n",
       "    <tr>\n",
       "      <th>4</th>\n",
       "      <td>5</td>\n",
       "      <td>51</td>\n",
       "      <td>60491.0</td>\n",
       "      <td>1</td>\n",
       "      <td>9</td>\n",
       "      <td>81</td>\n",
       "      <td>0</td>\n",
       "      <td>47</td>\n",
       "      <td>237</td>\n",
       "      <td>12</td>\n",
       "      <td>...</td>\n",
       "      <td>0</td>\n",
       "      <td>1</td>\n",
       "      <td>0</td>\n",
       "      <td>0</td>\n",
       "      <td>0</td>\n",
       "      <td>0</td>\n",
       "      <td>0</td>\n",
       "      <td>0</td>\n",
       "      <td>1</td>\n",
       "      <td>0</td>\n",
       "    </tr>\n",
       "    <tr>\n",
       "      <th>...</th>\n",
       "      <td>...</td>\n",
       "      <td>...</td>\n",
       "      <td>...</td>\n",
       "      <td>...</td>\n",
       "      <td>...</td>\n",
       "      <td>...</td>\n",
       "      <td>...</td>\n",
       "      <td>...</td>\n",
       "      <td>...</td>\n",
       "      <td>...</td>\n",
       "      <td>...</td>\n",
       "      <td>...</td>\n",
       "      <td>...</td>\n",
       "      <td>...</td>\n",
       "      <td>...</td>\n",
       "      <td>...</td>\n",
       "      <td>...</td>\n",
       "      <td>...</td>\n",
       "      <td>...</td>\n",
       "      <td>...</td>\n",
       "      <td>...</td>\n",
       "    </tr>\n",
       "    <tr>\n",
       "      <th>2224</th>\n",
       "      <td>2226</td>\n",
       "      <td>31</td>\n",
       "      <td>89891.0</td>\n",
       "      <td>0</td>\n",
       "      <td>9</td>\n",
       "      <td>17</td>\n",
       "      <td>0</td>\n",
       "      <td>22</td>\n",
       "      <td>132</td>\n",
       "      <td>59</td>\n",
       "      <td>...</td>\n",
       "      <td>0</td>\n",
       "      <td>0</td>\n",
       "      <td>0</td>\n",
       "      <td>1</td>\n",
       "      <td>0</td>\n",
       "      <td>0</td>\n",
       "      <td>0</td>\n",
       "      <td>0</td>\n",
       "      <td>1</td>\n",
       "      <td>0</td>\n",
       "    </tr>\n",
       "    <tr>\n",
       "      <th>2225</th>\n",
       "      <td>2227</td>\n",
       "      <td>49</td>\n",
       "      <td>3502.0</td>\n",
       "      <td>1</td>\n",
       "      <td>9</td>\n",
       "      <td>56</td>\n",
       "      <td>0</td>\n",
       "      <td>1</td>\n",
       "      <td>1</td>\n",
       "      <td>0</td>\n",
       "      <td>...</td>\n",
       "      <td>0</td>\n",
       "      <td>0</td>\n",
       "      <td>1</td>\n",
       "      <td>0</td>\n",
       "      <td>0</td>\n",
       "      <td>0</td>\n",
       "      <td>0</td>\n",
       "      <td>0</td>\n",
       "      <td>1</td>\n",
       "      <td>0</td>\n",
       "    </tr>\n",
       "    <tr>\n",
       "      <th>2226</th>\n",
       "      <td>2228</td>\n",
       "      <td>56</td>\n",
       "      <td>70713.0</td>\n",
       "      <td>1</td>\n",
       "      <td>10</td>\n",
       "      <td>23</td>\n",
       "      <td>0</td>\n",
       "      <td>114</td>\n",
       "      <td>279</td>\n",
       "      <td>82</td>\n",
       "      <td>...</td>\n",
       "      <td>0</td>\n",
       "      <td>0</td>\n",
       "      <td>0</td>\n",
       "      <td>1</td>\n",
       "      <td>0</td>\n",
       "      <td>0</td>\n",
       "      <td>0</td>\n",
       "      <td>0</td>\n",
       "      <td>1</td>\n",
       "      <td>0</td>\n",
       "    </tr>\n",
       "    <tr>\n",
       "      <th>2227</th>\n",
       "      <td>2229</td>\n",
       "      <td>52</td>\n",
       "      <td>19656.0</td>\n",
       "      <td>1</td>\n",
       "      <td>9</td>\n",
       "      <td>94</td>\n",
       "      <td>0</td>\n",
       "      <td>4</td>\n",
       "      <td>9</td>\n",
       "      <td>6</td>\n",
       "      <td>...</td>\n",
       "      <td>0</td>\n",
       "      <td>0</td>\n",
       "      <td>0</td>\n",
       "      <td>1</td>\n",
       "      <td>0</td>\n",
       "      <td>0</td>\n",
       "      <td>0</td>\n",
       "      <td>0</td>\n",
       "      <td>1</td>\n",
       "      <td>0</td>\n",
       "    </tr>\n",
       "    <tr>\n",
       "      <th>2228</th>\n",
       "      <td>2230</td>\n",
       "      <td>41</td>\n",
       "      <td>19419.0</td>\n",
       "      <td>1</td>\n",
       "      <td>10</td>\n",
       "      <td>76</td>\n",
       "      <td>0</td>\n",
       "      <td>14</td>\n",
       "      <td>28</td>\n",
       "      <td>16</td>\n",
       "      <td>...</td>\n",
       "      <td>0</td>\n",
       "      <td>1</td>\n",
       "      <td>0</td>\n",
       "      <td>0</td>\n",
       "      <td>0</td>\n",
       "      <td>0</td>\n",
       "      <td>0</td>\n",
       "      <td>0</td>\n",
       "      <td>1</td>\n",
       "      <td>0</td>\n",
       "    </tr>\n",
       "  </tbody>\n",
       "</table>\n",
       "<p>2229 rows × 34 columns</p>\n",
       "</div>"
      ],
      "text/plain": [
       "        ID  Age   Income  NKids  Enrollyear  Recency  Complain  AmtFruits  \\\n",
       "0        1   37  70951.0      0           9       66         0         10   \n",
       "1        2   61  57091.0      0           8        0         0          5   \n",
       "2        3   47  46098.0      2          10       86         0          0   \n",
       "3        4   75  25358.0      1           9       57         0          0   \n",
       "4        5   51  60491.0      1           9       81         0         47   \n",
       "...    ...  ...      ...    ...         ...      ...       ...        ...   \n",
       "2224  2226   31  89891.0      0           9       17         0         22   \n",
       "2225  2227   49   3502.0      1           9       56         0          1   \n",
       "2226  2228   56  70713.0      1          10       23         0        114   \n",
       "2227  2229   52  19656.0      1           9       94         0          4   \n",
       "2228  2230   41  19419.0      1          10       76         0         14   \n",
       "\n",
       "      AmtMeats  AmtFish  ...  Marital_Status_Divorced  Marital_Status_Married  \\\n",
       "0          554      254  ...                        0                       1   \n",
       "1           64        7  ...                        0                       0   \n",
       "2           27        0  ...                        0                       0   \n",
       "3            5        0  ...                        0                       0   \n",
       "4          237       12  ...                        0                       1   \n",
       "...        ...      ...  ...                      ...                     ...   \n",
       "2224       132       59  ...                        0                       0   \n",
       "2225         1        0  ...                        0                       0   \n",
       "2226       279       82  ...                        0                       0   \n",
       "2227         9        6  ...                        0                       0   \n",
       "2228        28       16  ...                        0                       1   \n",
       "\n",
       "      Marital_Status_Single  Marital_Status_Together  Marital_Status_Widow  \\\n",
       "0                         0                        0                     0   \n",
       "1                         1                        0                     0   \n",
       "2                         1                        0                     0   \n",
       "3                         0                        0                     1   \n",
       "4                         0                        0                     0   \n",
       "...                     ...                      ...                   ...   \n",
       "2224                      0                        1                     0   \n",
       "2225                      1                        0                     0   \n",
       "2226                      0                        1                     0   \n",
       "2227                      0                        1                     0   \n",
       "2228                      0                        0                     0   \n",
       "\n",
       "      Marital_Status_YOLO  AccCampaign_Both  AccCampaign_First  \\\n",
       "0                       0                 0                  0   \n",
       "1                       0                 0                  0   \n",
       "2                       0                 0                  0   \n",
       "3                       0                 0                  0   \n",
       "4                       0                 0                  0   \n",
       "...                   ...               ...                ...   \n",
       "2224                    0                 0                  0   \n",
       "2225                    0                 0                  0   \n",
       "2226                    0                 0                  0   \n",
       "2227                    0                 0                  0   \n",
       "2228                    0                 0                  0   \n",
       "\n",
       "      AccCampaign_None  AccCampaign_Second  \n",
       "0                    1                   0  \n",
       "1                    0                   1  \n",
       "2                    1                   0  \n",
       "3                    1                   0  \n",
       "4                    1                   0  \n",
       "...                ...                 ...  \n",
       "2224                 1                   0  \n",
       "2225                 1                   0  \n",
       "2226                 1                   0  \n",
       "2227                 1                   0  \n",
       "2228                 1                   0  \n",
       "\n",
       "[2229 rows x 34 columns]"
      ]
     },
     "execution_count": 46,
     "metadata": {},
     "output_type": "execute_result"
    }
   ],
   "source": [
    "#เปลี่ยน Response เป็น 1 เป็น Yes และ 0 เป็น No\n",
    "df['Response'] = df['Response'].apply(lambda x : 1 if x=='Yes' else 0)\n",
    "df = df.reset_index().drop(columns=['index'])\n",
    "df"
   ]
  },
  {
   "cell_type": "code",
   "execution_count": 47,
   "metadata": {
    "id": "opbtbxH47OXz"
   },
   "outputs": [],
   "source": [
    "#แบ่งกลุ่มโดยใช้ Kmeans\n",
    "from sklearn.cluster import KMeans\n",
    "\n",
    "kmeans = KMeans(n_clusters=3, random_state=99)  \n",
    "X = df.to_numpy()\n",
    "kmeans.fit(X)     \n",
    "y_kmeans = kmeans.predict(X)  "
   ]
  },
  {
   "cell_type": "code",
   "execution_count": 48,
   "metadata": {
    "id": "WFgRhsjP7Pm4"
   },
   "outputs": [],
   "source": [
    "#สร้างตาราง group ใหม่ขึ้นมา\n",
    "df2 = pd.DataFrame(y_kmeans, columns=['Group'])"
   ]
  },
  {
   "cell_type": "code",
   "execution_count": 49,
   "metadata": {
    "id": "Msn6Fz017UNr"
   },
   "outputs": [],
   "source": [
    "#เชื่อมตาราง gruop ใหม่กับของเก่า df\n",
    "df_new = pd.concat([df, df2],axis = 1)"
   ]
  },
  {
   "cell_type": "markdown",
   "metadata": {
    "id": "_q97Im727Yz-"
   },
   "source": [
    "<font size=\"3\">ใช้ feature เกือบทุกอันและตัดอันที่ไม่สำคัญออก ที่ใช้แบบนี้เพราะกลุ่มเรามองว่าส่วนใหญ่สำคัญเราไม่สามารถแยกออกได้ ให้เป็นหน้าที่ของ k-mean ที่ทำการแบ่งกลุ่มเอง </font>"
   ]
  },
  {
   "cell_type": "code",
   "execution_count": 50,
   "metadata": {
    "id": "mrFHJWlf7W1N"
   },
   "outputs": [],
   "source": [
    "col = ['Age', 'Income', 'NKids', 'Recency',\n",
    "       'Complain', 'AmtFruits', 'AmtMeats', 'AmtFish', 'AmtSweets', 'AmtGold',\n",
    "       'NumWebPurchases', 'NumCatalogPurchases', 'NumStorePurchases',\n",
    "       'NumDiscPurchases', 'Response', 'Education_2n Cycle', 'Education_Basic',\n",
    "       'Education_Graduation', 'Education_Master', 'Education_PhD',\n",
    "       'Marital_Status_Alone',\n",
    "       'Marital_Status_Divorced', 'Marital_Status_Married',\n",
    "       'Marital_Status_Single', 'Marital_Status_Together',\n",
    "       'Marital_Status_Widow', 'AccCampaign_Both',\n",
    "       'AccCampaign_First', 'AccCampaign_None', 'AccCampaign_Second']"
   ]
  },
  {
   "cell_type": "code",
   "execution_count": 51,
   "metadata": {
    "colab": {
     "base_uri": "https://localhost:8080/"
    },
    "id": "JF7mdCwU7a-q",
    "outputId": "14b3937f-9774-4855-a861-8cce2e46939a"
   },
   "outputs": [
    {
     "name": "stdout",
     "output_type": "stream",
     "text": [
      "group  0 : 804 คน\n",
      "group  1 : 685 คน\n",
      "group  2 : 740 คน\n"
     ]
    }
   ],
   "source": [
    "#เช็คจำนวนคนในแต่ละกลุ่ม\n",
    "for i in range(3):\n",
    "    print(\"group \",i,\":\",len(df_new[df_new['Group']==i]),\"คน\")\n"
   ]
  },
  {
   "cell_type": "code",
   "execution_count": 52,
   "metadata": {
    "colab": {
     "base_uri": "https://localhost:8080/",
     "height": 1000
    },
    "id": "RydQ861j7cOa",
    "outputId": "61991997-151f-4eb4-8157-acb8638c5b43"
   },
   "outputs": [
    {
     "data": {
      "image/png": "[encoded data removed]",
      "text/plain": [
       "<Figure size 2300x2300 with 30 Axes>"
      ]
     },
     "metadata": {},
     "output_type": "display_data"
    }
   ],
   "source": [
    "import matplotlib.pyplot as plt\n",
    "fig, axs = plt.subplots(5, 6, figsize=(23,23))\n",
    "i_=0\n",
    "j=0\n",
    "for c in col:\n",
    "  list_group = []\n",
    "  for i in range(len(col)):\n",
    "    list_group+=[df_new[df_new['Group']==i][c].mean()]\n",
    "  axs[i_, j].bar(np.arange(len(list_group)),list_group,color=['darkred','seagreen','navy'])\n",
    "  axs[i_, j].set_title(c)\n",
    "  j+=1\n",
    "  if j==6:\n",
    "    j=0\n",
    "    i_+=1\n",
    "\n",
    "#พล็อตกราฟโดยการอิงจากหมวดหมู่ต่างๆตามกลุ่มที่แบ่งมา"
   ]
  },
  {
   "cell_type": "markdown",
   "metadata": {
    "tags": []
   },
   "source": [
    "### จากกราฟเห็นได้ว่า\n",
    "### Income,Amtทุกอย่าง มีผลอย่างเห็นได้ชัดในการแบ่งกลุ่ม\n",
    "* โดยGroup 0 เป็นกลุ่มที่มี Income มาก     และอัตราการซื้อ(Amtทุกอย่าง)มากที่สุด และเป็นกลุ่มที่จำนวนคนมากสุด\n",
    "* โดยGroup 1 เป็นกลุ่มที่มี Income ปานกลาง และอัตราการซื้อ(Amtทุกอย่าง)ปานกลาง  และเป็นกลุ่มที่จำนวนคนต่ำสุด\n",
    "* โดยGroup 2 เป็นกลุ่มที่มี Income ต่ำ      และอัตราการซื้อ(Amtทุกอย่าง)ต่ำ และเป็นกลุ่มที่จำนวนคนปานกลาง"
   ]
  },
  {
   "cell_type": "markdown",
   "metadata": {
    "id": "r9a4Mfc67gUt"
   },
   "source": [
    "### ข้อ 1.2"
   ]
  },
  {
   "cell_type": "code",
   "execution_count": 53,
   "metadata": {
    "colab": {
     "base_uri": "https://localhost:8080/",
     "height": 488
    },
    "id": "4kIvZvZq7dvD",
    "outputId": "c4092604-4400-41db-99de-1c8ab7a7b532"
   },
   "outputs": [
    {
     "data": {
      "text/html": [
       "<div>\n",
       "<style scoped>\n",
       "    .dataframe tbody tr th:only-of-type {\n",
       "        vertical-align: middle;\n",
       "    }\n",
       "\n",
       "    .dataframe tbody tr th {\n",
       "        vertical-align: top;\n",
       "    }\n",
       "\n",
       "    .dataframe thead th {\n",
       "        text-align: right;\n",
       "    }\n",
       "</style>\n",
       "<table border=\"1\" class=\"dataframe\">\n",
       "  <thead>\n",
       "    <tr style=\"text-align: right;\">\n",
       "      <th></th>\n",
       "      <th>Age</th>\n",
       "      <th>Income</th>\n",
       "      <th>NKids</th>\n",
       "      <th>Enrollyear</th>\n",
       "      <th>Recency</th>\n",
       "      <th>Complain</th>\n",
       "      <th>AmtFruits</th>\n",
       "      <th>AmtMeats</th>\n",
       "      <th>AmtFish</th>\n",
       "      <th>AmtSweets</th>\n",
       "      <th>...</th>\n",
       "      <th>Marital_Status_Married</th>\n",
       "      <th>Marital_Status_Single</th>\n",
       "      <th>Marital_Status_Together</th>\n",
       "      <th>Marital_Status_Widow</th>\n",
       "      <th>Marital_Status_YOLO</th>\n",
       "      <th>AccCampaign_Both</th>\n",
       "      <th>AccCampaign_First</th>\n",
       "      <th>AccCampaign_None</th>\n",
       "      <th>AccCampaign_Second</th>\n",
       "      <th>Group</th>\n",
       "    </tr>\n",
       "  </thead>\n",
       "  <tbody>\n",
       "    <tr>\n",
       "      <th>1</th>\n",
       "      <td>61</td>\n",
       "      <td>57091.0</td>\n",
       "      <td>0</td>\n",
       "      <td>8</td>\n",
       "      <td>0</td>\n",
       "      <td>0</td>\n",
       "      <td>5</td>\n",
       "      <td>64</td>\n",
       "      <td>7</td>\n",
       "      <td>0</td>\n",
       "      <td>...</td>\n",
       "      <td>0</td>\n",
       "      <td>1</td>\n",
       "      <td>0</td>\n",
       "      <td>0</td>\n",
       "      <td>0</td>\n",
       "      <td>0</td>\n",
       "      <td>0</td>\n",
       "      <td>0</td>\n",
       "      <td>1</td>\n",
       "      <td>0</td>\n",
       "    </tr>\n",
       "    <tr>\n",
       "      <th>2</th>\n",
       "      <td>47</td>\n",
       "      <td>46098.0</td>\n",
       "      <td>2</td>\n",
       "      <td>10</td>\n",
       "      <td>86</td>\n",
       "      <td>0</td>\n",
       "      <td>0</td>\n",
       "      <td>27</td>\n",
       "      <td>0</td>\n",
       "      <td>0</td>\n",
       "      <td>...</td>\n",
       "      <td>0</td>\n",
       "      <td>1</td>\n",
       "      <td>0</td>\n",
       "      <td>0</td>\n",
       "      <td>0</td>\n",
       "      <td>0</td>\n",
       "      <td>0</td>\n",
       "      <td>1</td>\n",
       "      <td>0</td>\n",
       "      <td>0</td>\n",
       "    </tr>\n",
       "    <tr>\n",
       "      <th>3</th>\n",
       "      <td>75</td>\n",
       "      <td>25358.0</td>\n",
       "      <td>1</td>\n",
       "      <td>9</td>\n",
       "      <td>57</td>\n",
       "      <td>0</td>\n",
       "      <td>0</td>\n",
       "      <td>5</td>\n",
       "      <td>0</td>\n",
       "      <td>0</td>\n",
       "      <td>...</td>\n",
       "      <td>0</td>\n",
       "      <td>0</td>\n",
       "      <td>0</td>\n",
       "      <td>1</td>\n",
       "      <td>0</td>\n",
       "      <td>0</td>\n",
       "      <td>0</td>\n",
       "      <td>1</td>\n",
       "      <td>0</td>\n",
       "      <td>2</td>\n",
       "    </tr>\n",
       "    <tr>\n",
       "      <th>4</th>\n",
       "      <td>51</td>\n",
       "      <td>60491.0</td>\n",
       "      <td>1</td>\n",
       "      <td>9</td>\n",
       "      <td>81</td>\n",
       "      <td>0</td>\n",
       "      <td>47</td>\n",
       "      <td>237</td>\n",
       "      <td>12</td>\n",
       "      <td>19</td>\n",
       "      <td>...</td>\n",
       "      <td>1</td>\n",
       "      <td>0</td>\n",
       "      <td>0</td>\n",
       "      <td>0</td>\n",
       "      <td>0</td>\n",
       "      <td>0</td>\n",
       "      <td>0</td>\n",
       "      <td>1</td>\n",
       "      <td>0</td>\n",
       "      <td>0</td>\n",
       "    </tr>\n",
       "    <tr>\n",
       "      <th>5</th>\n",
       "      <td>57</td>\n",
       "      <td>46891.0</td>\n",
       "      <td>1</td>\n",
       "      <td>9</td>\n",
       "      <td>91</td>\n",
       "      <td>0</td>\n",
       "      <td>12</td>\n",
       "      <td>23</td>\n",
       "      <td>29</td>\n",
       "      <td>15</td>\n",
       "      <td>...</td>\n",
       "      <td>1</td>\n",
       "      <td>0</td>\n",
       "      <td>0</td>\n",
       "      <td>0</td>\n",
       "      <td>0</td>\n",
       "      <td>0</td>\n",
       "      <td>0</td>\n",
       "      <td>1</td>\n",
       "      <td>0</td>\n",
       "      <td>0</td>\n",
       "    </tr>\n",
       "    <tr>\n",
       "      <th>...</th>\n",
       "      <td>...</td>\n",
       "      <td>...</td>\n",
       "      <td>...</td>\n",
       "      <td>...</td>\n",
       "      <td>...</td>\n",
       "      <td>...</td>\n",
       "      <td>...</td>\n",
       "      <td>...</td>\n",
       "      <td>...</td>\n",
       "      <td>...</td>\n",
       "      <td>...</td>\n",
       "      <td>...</td>\n",
       "      <td>...</td>\n",
       "      <td>...</td>\n",
       "      <td>...</td>\n",
       "      <td>...</td>\n",
       "      <td>...</td>\n",
       "      <td>...</td>\n",
       "      <td>...</td>\n",
       "      <td>...</td>\n",
       "      <td>...</td>\n",
       "    </tr>\n",
       "    <tr>\n",
       "      <th>2222</th>\n",
       "      <td>70</td>\n",
       "      <td>57247.0</td>\n",
       "      <td>1</td>\n",
       "      <td>9</td>\n",
       "      <td>50</td>\n",
       "      <td>0</td>\n",
       "      <td>4</td>\n",
       "      <td>32</td>\n",
       "      <td>37</td>\n",
       "      <td>54</td>\n",
       "      <td>...</td>\n",
       "      <td>0</td>\n",
       "      <td>0</td>\n",
       "      <td>1</td>\n",
       "      <td>0</td>\n",
       "      <td>0</td>\n",
       "      <td>0</td>\n",
       "      <td>0</td>\n",
       "      <td>1</td>\n",
       "      <td>0</td>\n",
       "      <td>0</td>\n",
       "    </tr>\n",
       "    <tr>\n",
       "      <th>2223</th>\n",
       "      <td>50</td>\n",
       "      <td>51813.0</td>\n",
       "      <td>2</td>\n",
       "      <td>9</td>\n",
       "      <td>37</td>\n",
       "      <td>0</td>\n",
       "      <td>2</td>\n",
       "      <td>7</td>\n",
       "      <td>0</td>\n",
       "      <td>1</td>\n",
       "      <td>...</td>\n",
       "      <td>0</td>\n",
       "      <td>0</td>\n",
       "      <td>0</td>\n",
       "      <td>0</td>\n",
       "      <td>0</td>\n",
       "      <td>0</td>\n",
       "      <td>0</td>\n",
       "      <td>1</td>\n",
       "      <td>0</td>\n",
       "      <td>0</td>\n",
       "    </tr>\n",
       "    <tr>\n",
       "      <th>2225</th>\n",
       "      <td>49</td>\n",
       "      <td>3502.0</td>\n",
       "      <td>1</td>\n",
       "      <td>9</td>\n",
       "      <td>56</td>\n",
       "      <td>0</td>\n",
       "      <td>1</td>\n",
       "      <td>1</td>\n",
       "      <td>0</td>\n",
       "      <td>0</td>\n",
       "      <td>...</td>\n",
       "      <td>0</td>\n",
       "      <td>1</td>\n",
       "      <td>0</td>\n",
       "      <td>0</td>\n",
       "      <td>0</td>\n",
       "      <td>0</td>\n",
       "      <td>0</td>\n",
       "      <td>1</td>\n",
       "      <td>0</td>\n",
       "      <td>2</td>\n",
       "    </tr>\n",
       "    <tr>\n",
       "      <th>2227</th>\n",
       "      <td>52</td>\n",
       "      <td>19656.0</td>\n",
       "      <td>1</td>\n",
       "      <td>9</td>\n",
       "      <td>94</td>\n",
       "      <td>0</td>\n",
       "      <td>4</td>\n",
       "      <td>9</td>\n",
       "      <td>6</td>\n",
       "      <td>8</td>\n",
       "      <td>...</td>\n",
       "      <td>0</td>\n",
       "      <td>0</td>\n",
       "      <td>1</td>\n",
       "      <td>0</td>\n",
       "      <td>0</td>\n",
       "      <td>0</td>\n",
       "      <td>0</td>\n",
       "      <td>1</td>\n",
       "      <td>0</td>\n",
       "      <td>2</td>\n",
       "    </tr>\n",
       "    <tr>\n",
       "      <th>2228</th>\n",
       "      <td>41</td>\n",
       "      <td>19419.0</td>\n",
       "      <td>1</td>\n",
       "      <td>10</td>\n",
       "      <td>76</td>\n",
       "      <td>0</td>\n",
       "      <td>14</td>\n",
       "      <td>28</td>\n",
       "      <td>16</td>\n",
       "      <td>3</td>\n",
       "      <td>...</td>\n",
       "      <td>1</td>\n",
       "      <td>0</td>\n",
       "      <td>0</td>\n",
       "      <td>0</td>\n",
       "      <td>0</td>\n",
       "      <td>0</td>\n",
       "      <td>0</td>\n",
       "      <td>1</td>\n",
       "      <td>0</td>\n",
       "      <td>2</td>\n",
       "    </tr>\n",
       "  </tbody>\n",
       "</table>\n",
       "<p>1544 rows × 34 columns</p>\n",
       "</div>"
      ],
      "text/plain": [
       "      Age   Income  NKids  Enrollyear  Recency  Complain  AmtFruits  AmtMeats  \\\n",
       "1      61  57091.0      0           8        0         0          5        64   \n",
       "2      47  46098.0      2          10       86         0          0        27   \n",
       "3      75  25358.0      1           9       57         0          0         5   \n",
       "4      51  60491.0      1           9       81         0         47       237   \n",
       "5      57  46891.0      1           9       91         0         12        23   \n",
       "...   ...      ...    ...         ...      ...       ...        ...       ...   \n",
       "2222   70  57247.0      1           9       50         0          4        32   \n",
       "2223   50  51813.0      2           9       37         0          2         7   \n",
       "2225   49   3502.0      1           9       56         0          1         1   \n",
       "2227   52  19656.0      1           9       94         0          4         9   \n",
       "2228   41  19419.0      1          10       76         0         14        28   \n",
       "\n",
       "      AmtFish  AmtSweets  ...  Marital_Status_Married  Marital_Status_Single  \\\n",
       "1           7          0  ...                       0                      1   \n",
       "2           0          0  ...                       0                      1   \n",
       "3           0          0  ...                       0                      0   \n",
       "4          12         19  ...                       1                      0   \n",
       "5          29         15  ...                       1                      0   \n",
       "...       ...        ...  ...                     ...                    ...   \n",
       "2222       37         54  ...                       0                      0   \n",
       "2223        0          1  ...                       0                      0   \n",
       "2225        0          0  ...                       0                      1   \n",
       "2227        6          8  ...                       0                      0   \n",
       "2228       16          3  ...                       1                      0   \n",
       "\n",
       "      Marital_Status_Together  Marital_Status_Widow  Marital_Status_YOLO  \\\n",
       "1                           0                     0                    0   \n",
       "2                           0                     0                    0   \n",
       "3                           0                     1                    0   \n",
       "4                           0                     0                    0   \n",
       "5                           0                     0                    0   \n",
       "...                       ...                   ...                  ...   \n",
       "2222                        1                     0                    0   \n",
       "2223                        0                     0                    0   \n",
       "2225                        0                     0                    0   \n",
       "2227                        1                     0                    0   \n",
       "2228                        0                     0                    0   \n",
       "\n",
       "      AccCampaign_Both  AccCampaign_First  AccCampaign_None  \\\n",
       "1                    0                  0                 0   \n",
       "2                    0                  0                 1   \n",
       "3                    0                  0                 1   \n",
       "4                    0                  0                 1   \n",
       "5                    0                  0                 1   \n",
       "...                ...                ...               ...   \n",
       "2222                 0                  0                 1   \n",
       "2223                 0                  0                 1   \n",
       "2225                 0                  0                 1   \n",
       "2227                 0                  0                 1   \n",
       "2228                 0                  0                 1   \n",
       "\n",
       "      AccCampaign_Second  Group  \n",
       "1                      1      0  \n",
       "2                      0      0  \n",
       "3                      0      2  \n",
       "4                      0      0  \n",
       "5                      0      0  \n",
       "...                  ...    ...  \n",
       "2222                   0      0  \n",
       "2223                   0      0  \n",
       "2225                   0      2  \n",
       "2227                   0      2  \n",
       "2228                   0      2  \n",
       "\n",
       "[1544 rows x 34 columns]"
      ]
     },
     "execution_count": 53,
     "metadata": {},
     "output_type": "execute_result"
    }
   ],
   "source": [
    "#ดึง df_new จากข้อ 1.1 มาใช้โดยเอากลุ่มที่มากสุด 2 กลุ่ม\n",
    "df_1_2 = df_new[(df_new['Group']==0) | (df_new['Group']==2)]\n",
    "df_1_2 = df_1_2.drop(columns=['ID'])\n",
    "df_1_2"
   ]
  },
  {
   "cell_type": "code",
   "execution_count": 54,
   "metadata": {
    "id": "QtIvVl5d7odf"
   },
   "outputs": [],
   "source": [
    "#ทำให้ข้อมูลทั้งหมดอยู่ในช่วง 0-1\n",
    "for c in df_1_2.columns:\n",
    "    df_1_2[c] = (df_1_2[c]-df_1_2[c].min()) / df_1_2[c].max()"
   ]
  },
  {
   "cell_type": "code",
   "execution_count": 55,
   "metadata": {
    "colab": {
     "base_uri": "https://localhost:8080/",
     "height": 299
    },
    "id": "hcurEzSN7pwm",
    "outputId": "8e46e50c-2907-4733-f783-12b1a591fa66"
   },
   "outputs": [
    {
     "data": {
      "text/html": [
       "<div>\n",
       "<style scoped>\n",
       "    .dataframe tbody tr th:only-of-type {\n",
       "        vertical-align: middle;\n",
       "    }\n",
       "\n",
       "    .dataframe tbody tr th {\n",
       "        vertical-align: top;\n",
       "    }\n",
       "\n",
       "    .dataframe thead th {\n",
       "        text-align: right;\n",
       "    }\n",
       "</style>\n",
       "<table border=\"1\" class=\"dataframe\">\n",
       "  <thead>\n",
       "    <tr style=\"text-align: right;\">\n",
       "      <th></th>\n",
       "      <th>Age</th>\n",
       "      <th>Income</th>\n",
       "      <th>NKids</th>\n",
       "      <th>Enrollyear</th>\n",
       "      <th>Recency</th>\n",
       "      <th>Complain</th>\n",
       "      <th>AmtFruits</th>\n",
       "      <th>AmtMeats</th>\n",
       "      <th>AmtFish</th>\n",
       "      <th>AmtSweets</th>\n",
       "      <th>...</th>\n",
       "      <th>Marital_Status_Married</th>\n",
       "      <th>Marital_Status_Single</th>\n",
       "      <th>Marital_Status_Together</th>\n",
       "      <th>Marital_Status_Widow</th>\n",
       "      <th>Marital_Status_YOLO</th>\n",
       "      <th>AccCampaign_Both</th>\n",
       "      <th>AccCampaign_First</th>\n",
       "      <th>AccCampaign_None</th>\n",
       "      <th>AccCampaign_Second</th>\n",
       "      <th>Group</th>\n",
       "    </tr>\n",
       "  </thead>\n",
       "  <tbody>\n",
       "    <tr>\n",
       "      <th>1</th>\n",
       "      <td>0.271318</td>\n",
       "      <td>0.857114</td>\n",
       "      <td>0.000000</td>\n",
       "      <td>0.0</td>\n",
       "      <td>0.000000</td>\n",
       "      <td>0.0</td>\n",
       "      <td>0.025126</td>\n",
       "      <td>0.037101</td>\n",
       "      <td>0.027027</td>\n",
       "      <td>0.000000</td>\n",
       "      <td>...</td>\n",
       "      <td>0.0</td>\n",
       "      <td>1.0</td>\n",
       "      <td>0.0</td>\n",
       "      <td>0.0</td>\n",
       "      <td>0.0</td>\n",
       "      <td>0.0</td>\n",
       "      <td>0.0</td>\n",
       "      <td>0.0</td>\n",
       "      <td>1.0</td>\n",
       "      <td>0.0</td>\n",
       "    </tr>\n",
       "    <tr>\n",
       "      <th>2</th>\n",
       "      <td>0.162791</td>\n",
       "      <td>0.686917</td>\n",
       "      <td>0.666667</td>\n",
       "      <td>0.2</td>\n",
       "      <td>0.868687</td>\n",
       "      <td>0.0</td>\n",
       "      <td>0.000000</td>\n",
       "      <td>0.015652</td>\n",
       "      <td>0.000000</td>\n",
       "      <td>0.000000</td>\n",
       "      <td>...</td>\n",
       "      <td>0.0</td>\n",
       "      <td>1.0</td>\n",
       "      <td>0.0</td>\n",
       "      <td>0.0</td>\n",
       "      <td>0.0</td>\n",
       "      <td>0.0</td>\n",
       "      <td>0.0</td>\n",
       "      <td>1.0</td>\n",
       "      <td>0.0</td>\n",
       "      <td>0.0</td>\n",
       "    </tr>\n",
       "    <tr>\n",
       "      <th>3</th>\n",
       "      <td>0.379845</td>\n",
       "      <td>0.365815</td>\n",
       "      <td>0.333333</td>\n",
       "      <td>0.1</td>\n",
       "      <td>0.575758</td>\n",
       "      <td>0.0</td>\n",
       "      <td>0.000000</td>\n",
       "      <td>0.002899</td>\n",
       "      <td>0.000000</td>\n",
       "      <td>0.000000</td>\n",
       "      <td>...</td>\n",
       "      <td>0.0</td>\n",
       "      <td>0.0</td>\n",
       "      <td>0.0</td>\n",
       "      <td>1.0</td>\n",
       "      <td>0.0</td>\n",
       "      <td>0.0</td>\n",
       "      <td>0.0</td>\n",
       "      <td>1.0</td>\n",
       "      <td>0.0</td>\n",
       "      <td>1.0</td>\n",
       "    </tr>\n",
       "    <tr>\n",
       "      <th>4</th>\n",
       "      <td>0.193798</td>\n",
       "      <td>0.909754</td>\n",
       "      <td>0.333333</td>\n",
       "      <td>0.1</td>\n",
       "      <td>0.818182</td>\n",
       "      <td>0.0</td>\n",
       "      <td>0.236181</td>\n",
       "      <td>0.137391</td>\n",
       "      <td>0.046332</td>\n",
       "      <td>0.072243</td>\n",
       "      <td>...</td>\n",
       "      <td>1.0</td>\n",
       "      <td>0.0</td>\n",
       "      <td>0.0</td>\n",
       "      <td>0.0</td>\n",
       "      <td>0.0</td>\n",
       "      <td>0.0</td>\n",
       "      <td>0.0</td>\n",
       "      <td>1.0</td>\n",
       "      <td>0.0</td>\n",
       "      <td>0.0</td>\n",
       "    </tr>\n",
       "    <tr>\n",
       "      <th>5</th>\n",
       "      <td>0.240310</td>\n",
       "      <td>0.699195</td>\n",
       "      <td>0.333333</td>\n",
       "      <td>0.1</td>\n",
       "      <td>0.919192</td>\n",
       "      <td>0.0</td>\n",
       "      <td>0.060302</td>\n",
       "      <td>0.013333</td>\n",
       "      <td>0.111969</td>\n",
       "      <td>0.057034</td>\n",
       "      <td>...</td>\n",
       "      <td>1.0</td>\n",
       "      <td>0.0</td>\n",
       "      <td>0.0</td>\n",
       "      <td>0.0</td>\n",
       "      <td>0.0</td>\n",
       "      <td>0.0</td>\n",
       "      <td>0.0</td>\n",
       "      <td>1.0</td>\n",
       "      <td>0.0</td>\n",
       "      <td>0.0</td>\n",
       "    </tr>\n",
       "  </tbody>\n",
       "</table>\n",
       "<p>5 rows × 34 columns</p>\n",
       "</div>"
      ],
      "text/plain": [
       "        Age    Income     NKids  Enrollyear   Recency  Complain  AmtFruits  \\\n",
       "1  0.271318  0.857114  0.000000         0.0  0.000000       0.0   0.025126   \n",
       "2  0.162791  0.686917  0.666667         0.2  0.868687       0.0   0.000000   \n",
       "3  0.379845  0.365815  0.333333         0.1  0.575758       0.0   0.000000   \n",
       "4  0.193798  0.909754  0.333333         0.1  0.818182       0.0   0.236181   \n",
       "5  0.240310  0.699195  0.333333         0.1  0.919192       0.0   0.060302   \n",
       "\n",
       "   AmtMeats   AmtFish  AmtSweets  ...  Marital_Status_Married  \\\n",
       "1  0.037101  0.027027   0.000000  ...                     0.0   \n",
       "2  0.015652  0.000000   0.000000  ...                     0.0   \n",
       "3  0.002899  0.000000   0.000000  ...                     0.0   \n",
       "4  0.137391  0.046332   0.072243  ...                     1.0   \n",
       "5  0.013333  0.111969   0.057034  ...                     1.0   \n",
       "\n",
       "   Marital_Status_Single  Marital_Status_Together  Marital_Status_Widow  \\\n",
       "1                    1.0                      0.0                   0.0   \n",
       "2                    1.0                      0.0                   0.0   \n",
       "3                    0.0                      0.0                   1.0   \n",
       "4                    0.0                      0.0                   0.0   \n",
       "5                    0.0                      0.0                   0.0   \n",
       "\n",
       "   Marital_Status_YOLO  AccCampaign_Both  AccCampaign_First  AccCampaign_None  \\\n",
       "1                  0.0               0.0                0.0               0.0   \n",
       "2                  0.0               0.0                0.0               1.0   \n",
       "3                  0.0               0.0                0.0               1.0   \n",
       "4                  0.0               0.0                0.0               1.0   \n",
       "5                  0.0               0.0                0.0               1.0   \n",
       "\n",
       "   AccCampaign_Second  Group  \n",
       "1                 1.0    0.0  \n",
       "2                 0.0    0.0  \n",
       "3                 0.0    1.0  \n",
       "4                 0.0    0.0  \n",
       "5                 0.0    0.0  \n",
       "\n",
       "[5 rows x 34 columns]"
      ]
     },
     "execution_count": 55,
     "metadata": {},
     "output_type": "execute_result"
    }
   ],
   "source": [
    "df_1_2.head()"
   ]
  },
  {
   "cell_type": "code",
   "execution_count": 56,
   "metadata": {
    "id": "LgZqvMTL7rI_"
   },
   "outputs": [],
   "source": [
    "#drop คอลัม Response ที่เอาไว้ทำนาย\n",
    "X = df.drop(columns=['Response']).to_numpy()\n",
    "y = df['Response'].to_numpy()"
   ]
  },
  {
   "cell_type": "code",
   "execution_count": 57,
   "metadata": {
    "id": "gxKMNOY57sQz"
   },
   "outputs": [],
   "source": [
    "#แบ่ง train_test_split ให้ validation data 20%\n",
    "from sklearn.model_selection import train_test_split\n",
    "\n",
    "X_train, X_test, y_train, y_test = train_test_split(X, y, test_size=0.2, random_state=101)"
   ]
  },
  {
   "cell_type": "code",
   "execution_count": 58,
   "metadata": {
    "id": "mo7zxxOh7tyF"
   },
   "outputs": [],
   "source": [
    "#สร้างโมเดล\n",
    "import tensorflow as tf\n",
    "tf.random.set_seed(123)\n",
    "model = tf.keras.Sequential([\n",
    "    tf.keras.layers.Dense(100,activation='relu'),\n",
    "    tf.keras.layers.Dense(100,activation='relu'),\n",
    "    tf.keras.layers.Dense(1,activation='sigmoid')\n",
    "])\n",
    "model.compile(loss=tf.keras.losses.BinaryCrossentropy(), optimizer='adam', metrics=['accuracy'])"
   ]
  },
  {
   "cell_type": "code",
   "execution_count": 66,
   "metadata": {
    "colab": {
     "base_uri": "https://localhost:8080/"
    },
    "id": "OMcI-X2o7u37",
    "outputId": "0aeddb87-e1b0-47a7-fde3-51b5d75236ab"
   },
   "outputs": [
    {
     "data": {
      "text/plain": [
       "<keras.callbacks.History at 0x23684089e08>"
      ]
     },
     "execution_count": 66,
     "metadata": {},
     "output_type": "execute_result"
    }
   ],
   "source": [
    "#train data\n",
    "tf.random.set_seed(123)\n",
    "model.fit(X_train, y_train, epochs=100, validation_data=(X_test, y_test), verbose=0)"
   ]
  },
  {
   "cell_type": "code",
   "execution_count": 67,
   "metadata": {
    "colab": {
     "base_uri": "https://localhost:8080/"
    },
    "id": "ZM_caZJN7wWh",
    "outputId": "8b7af4f3-bf6e-44cf-d75c-b51762b62d91"
   },
   "outputs": [
    {
     "name": "stdout",
     "output_type": "stream",
     "text": [
      "14/14 [==============================] - 0s 3ms/step - loss: 0.4008 - accuracy: 0.8475\n",
      "จากการทดสอบจากข้อมูล validation 20% ของทั้งหมด\n",
      "ได้ว่า\n",
      "model นี้มีค่าความแม่นยำ: 84.75%\n",
      "model นี้มีค่า loss: 0.40\n"
     ]
    }
   ],
   "source": [
    "#evaluate test data\n",
    "results = model.evaluate(X_test, y_test)\n",
    "print(\"จากการทดสอบจากข้อมูล validation 20% ของทั้งหมด\\nได้ว่า\")\n",
    "print(\"model นี้มีค่าความแม่นยำ: {:.2f}%\".format(results[1]*100))\n",
    "print(\"model นี้มีค่า loss: {:.2f}\".format(results[0]))"
   ]
  },
  {
   "cell_type": "markdown",
   "metadata": {
    "id": "KJ8cdTeK8GG8",
    "tags": []
   },
   "source": [
    "## ข้อ 2"
   ]
  },
  {
   "cell_type": "markdown",
   "metadata": {
    "id": "mzwBs9QV8K0h"
   },
   "source": [
    "### 2.1"
   ]
  },
  {
   "cell_type": "markdown",
   "metadata": {
    "id": "jwZxDO8V8Tjm"
   },
   "source": [
    "<font size=\"3\">รถคันนี้น่าจะกินน้ำมันเท่าใด (กี่ไมล์/แกลลอน (MPG)) </font>"
   ]
  },
  {
   "cell_type": "code",
   "execution_count": 26,
   "metadata": {
    "id": "OzrZlfmh8HW2"
   },
   "outputs": [],
   "source": [
    "import pandas as pd\n",
    "import numpy as np"
   ]
  },
  {
   "cell_type": "code",
   "execution_count": 27,
   "metadata": {
    "colab": {
     "base_uri": "https://localhost:8080/"
    },
    "id": "dHt5wC158eFF",
    "outputId": "2b020196-683c-4009-d312-7f197eb4c6f6"
   },
   "outputs": [
    {
     "data": {
      "text/plain": [
       "Make          0\n",
       "DriveTrain    0\n",
       "EngineSize    0\n",
       "Cylinders     2\n",
       "Horsepower    0\n",
       "MPG           0\n",
       "Weight        0\n",
       "Wheelbase     0\n",
       "Length        0\n",
       "dtype: int64"
      ]
     },
     "execution_count": 27,
     "metadata": {},
     "output_type": "execute_result"
    }
   ],
   "source": [
    "df = pd.read_csv('../data/car-mpg.csv')\n",
    "df.isnull().sum()"
   ]
  },
  {
   "cell_type": "code",
   "execution_count": 28,
   "metadata": {
    "id": "izxf1yOm8fJN"
   },
   "outputs": [],
   "source": [
    "#fill null values\n",
    "df['Cylinders'] = df['Cylinders'].fillna(df['Cylinders'].mean())"
   ]
  },
  {
   "cell_type": "code",
   "execution_count": 29,
   "metadata": {
    "id": "Q2QM35Je8gbw"
   },
   "outputs": [],
   "source": [
    "#ปรับให้เป็น z-score\n",
    "co = ['EngineSize', 'Cylinders', 'Horsepower', 'Weight', 'Wheelbase', 'Length']\n",
    "for c in co:\n",
    "    df[c] = (df[c]-df[c].mean()) / df[c].std()"
   ]
  },
  {
   "cell_type": "code",
   "execution_count": 30,
   "metadata": {
    "id": "WvpRfK_m8hXp"
   },
   "outputs": [],
   "source": [
    "#ลบcolumn Make ทิ้งเพราะในข้อมูล test ไม่มีบอก\n",
    "X = df.drop(columns=['MPG','Make'])\n",
    "y = df['MPG']"
   ]
  },
  {
   "cell_type": "code",
   "execution_count": 31,
   "metadata": {
    "colab": {
     "base_uri": "https://localhost:8080/",
     "height": 206
    },
    "id": "rNaeSTNK8ijV",
    "outputId": "2348633d-767e-4c9a-8d2c-e3a58f559512"
   },
   "outputs": [
    {
     "data": {
      "text/html": [
       "\n",
       "  <div id=\"df-e32c38c5-ceb9-4944-bf01-de2fd0e238f5\">\n",
       "    <div class=\"colab-df-container\">\n",
       "      <div>\n",
       "<style scoped>\n",
       "    .dataframe tbody tr th:only-of-type {\n",
       "        vertical-align: middle;\n",
       "    }\n",
       "\n",
       "    .dataframe tbody tr th {\n",
       "        vertical-align: top;\n",
       "    }\n",
       "\n",
       "    .dataframe thead th {\n",
       "        text-align: right;\n",
       "    }\n",
       "</style>\n",
       "<table border=\"1\" class=\"dataframe\">\n",
       "  <thead>\n",
       "    <tr style=\"text-align: right;\">\n",
       "      <th></th>\n",
       "      <th>EngineSize</th>\n",
       "      <th>Cylinders</th>\n",
       "      <th>Horsepower</th>\n",
       "      <th>Weight</th>\n",
       "      <th>Wheelbase</th>\n",
       "      <th>Length</th>\n",
       "      <th>DriveTrain_All</th>\n",
       "      <th>DriveTrain_Front</th>\n",
       "      <th>DriveTrain_Rear</th>\n",
       "    </tr>\n",
       "  </thead>\n",
       "  <tbody>\n",
       "    <tr>\n",
       "      <th>0</th>\n",
       "      <td>0.273563</td>\n",
       "      <td>0.123803</td>\n",
       "      <td>0.683703</td>\n",
       "      <td>1.150285</td>\n",
       "      <td>-0.259174</td>\n",
       "      <td>0.183720</td>\n",
       "      <td>1</td>\n",
       "      <td>0</td>\n",
       "      <td>0</td>\n",
       "    </tr>\n",
       "    <tr>\n",
       "      <th>1</th>\n",
       "      <td>-1.079501</td>\n",
       "      <td>-1.162545</td>\n",
       "      <td>-0.221136</td>\n",
       "      <td>-1.053980</td>\n",
       "      <td>-0.860727</td>\n",
       "      <td>-1.000290</td>\n",
       "      <td>0</td>\n",
       "      <td>1</td>\n",
       "      <td>0</td>\n",
       "    </tr>\n",
       "    <tr>\n",
       "      <th>2</th>\n",
       "      <td>-0.718684</td>\n",
       "      <td>-1.162545</td>\n",
       "      <td>-0.221136</td>\n",
       "      <td>-0.458447</td>\n",
       "      <td>-0.379485</td>\n",
       "      <td>-0.234166</td>\n",
       "      <td>0</td>\n",
       "      <td>1</td>\n",
       "      <td>0</td>\n",
       "    </tr>\n",
       "    <tr>\n",
       "      <th>3</th>\n",
       "      <td>0.002951</td>\n",
       "      <td>0.123803</td>\n",
       "      <td>0.753306</td>\n",
       "      <td>-0.003891</td>\n",
       "      <td>-0.018553</td>\n",
       "      <td>-0.025223</td>\n",
       "      <td>0</td>\n",
       "      <td>1</td>\n",
       "      <td>0</td>\n",
       "    </tr>\n",
       "    <tr>\n",
       "      <th>4</th>\n",
       "      <td>0.273563</td>\n",
       "      <td>0.123803</td>\n",
       "      <td>0.126879</td>\n",
       "      <td>0.397962</td>\n",
       "      <td>0.823622</td>\n",
       "      <td>0.740901</td>\n",
       "      <td>0</td>\n",
       "      <td>1</td>\n",
       "      <td>0</td>\n",
       "    </tr>\n",
       "  </tbody>\n",
       "</table>\n",
       "</div>\n",
       "      <button class=\"colab-df-convert\" onclick=\"convertToInteractive('df-e32c38c5-ceb9-4944-bf01-de2fd0e238f5')\"\n",
       "              title=\"Convert this dataframe to an interactive table.\"\n",
       "              style=\"display:none;\">\n",
       "        \n",
       "  <svg xmlns=\"http://www.w3.org/2000/svg\" height=\"24px\"viewBox=\"0 0 24 24\"\n",
       "       width=\"24px\">\n",
       "    <path d=\"M0 0h24v24H0V0z\" fill=\"none\"/>\n",
       "    <path d=\"M18.56 5.44l.94 2.06.94-2.06 2.06-.94-2.06-.94-.94-2.06-.94 2.06-2.06.94zm-11 1L8.5 8.5l.94-2.06 2.06-.94-2.06-.94L8.5 2.5l-.94 2.06-2.06.94zm10 10l.94 2.06.94-2.06 2.06-.94-2.06-.94-.94-2.06-.94 2.06-2.06.94z\"/><path d=\"M17.41 7.96l-1.37-1.37c-.4-.4-.92-.59-1.43-.59-.52 0-1.04.2-1.43.59L10.3 9.45l-7.72 7.72c-.78.78-.78 2.05 0 2.83L4 21.41c.39.39.9.59 1.41.59.51 0 1.02-.2 1.41-.59l7.78-7.78 2.81-2.81c.8-.78.8-2.07 0-2.86zM5.41 20L4 18.59l7.72-7.72 1.47 1.35L5.41 20z\"/>\n",
       "  </svg>\n",
       "      </button>\n",
       "      \n",
       "  <style>\n",
       "    .colab-df-container {\n",
       "      display:flex;\n",
       "      flex-wrap:wrap;\n",
       "      gap: 12px;\n",
       "    }\n",
       "\n",
       "    .colab-df-convert {\n",
       "      background-color: #E8F0FE;\n",
       "      border: none;\n",
       "      border-radius: 50%;\n",
       "      cursor: pointer;\n",
       "      display: none;\n",
       "      fill: #1967D2;\n",
       "      height: 32px;\n",
       "      padding: 0 0 0 0;\n",
       "      width: 32px;\n",
       "    }\n",
       "\n",
       "    .colab-df-convert:hover {\n",
       "      background-color: #E2EBFA;\n",
       "      box-shadow: 0px 1px 2px rgba(60, 64, 67, 0.3), 0px 1px 3px 1px rgba(60, 64, 67, 0.15);\n",
       "      fill: #174EA6;\n",
       "    }\n",
       "\n",
       "    [theme=dark] .colab-df-convert {\n",
       "      background-color: #3B4455;\n",
       "      fill: #D2E3FC;\n",
       "    }\n",
       "\n",
       "    [theme=dark] .colab-df-convert:hover {\n",
       "      background-color: #434B5C;\n",
       "      box-shadow: 0px 1px 3px 1px rgba(0, 0, 0, 0.15);\n",
       "      filter: drop-shadow(0px 1px 2px rgba(0, 0, 0, 0.3));\n",
       "      fill: #FFFFFF;\n",
       "    }\n",
       "  </style>\n",
       "\n",
       "      <script>\n",
       "        const buttonEl =\n",
       "          document.querySelector('#df-e32c38c5-ceb9-4944-bf01-de2fd0e238f5 button.colab-df-convert');\n",
       "        buttonEl.style.display =\n",
       "          google.colab.kernel.accessAllowed ? 'block' : 'none';\n",
       "\n",
       "        async function convertToInteractive(key) {\n",
       "          const element = document.querySelector('#df-e32c38c5-ceb9-4944-bf01-de2fd0e238f5');\n",
       "          const dataTable =\n",
       "            await google.colab.kernel.invokeFunction('convertToInteractive',\n",
       "                                                     [key], {});\n",
       "          if (!dataTable) return;\n",
       "\n",
       "          const docLinkHtml = 'Like what you see? Visit the ' +\n",
       "            '<a target=\"_blank\" href=https://colab.research.google.com/notebooks/data_table.ipynb>data table notebook</a>'\n",
       "            + ' to learn more about interactive tables.';\n",
       "          element.innerHTML = '';\n",
       "          dataTable['output_type'] = 'display_data';\n",
       "          await google.colab.output.renderOutput(dataTable, element);\n",
       "          const docLink = document.createElement('div');\n",
       "          docLink.innerHTML = docLinkHtml;\n",
       "          element.appendChild(docLink);\n",
       "        }\n",
       "      </script>\n",
       "    </div>\n",
       "  </div>\n",
       "  "
      ],
      "text/plain": [
       "   EngineSize  Cylinders  Horsepower    Weight  Wheelbase    Length  \\\n",
       "0    0.273563   0.123803    0.683703  1.150285  -0.259174  0.183720   \n",
       "1   -1.079501  -1.162545   -0.221136 -1.053980  -0.860727 -1.000290   \n",
       "2   -0.718684  -1.162545   -0.221136 -0.458447  -0.379485 -0.234166   \n",
       "3    0.002951   0.123803    0.753306 -0.003891  -0.018553 -0.025223   \n",
       "4    0.273563   0.123803    0.126879  0.397962   0.823622  0.740901   \n",
       "\n",
       "   DriveTrain_All  DriveTrain_Front  DriveTrain_Rear  \n",
       "0               1                 0                0  \n",
       "1               0                 1                0  \n",
       "2               0                 1                0  \n",
       "3               0                 1                0  \n",
       "4               0                 1                0  "
      ]
     },
     "execution_count": 31,
     "metadata": {},
     "output_type": "execute_result"
    }
   ],
   "source": [
    "#ทำ one-hot encoding\n",
    "X = pd.get_dummies(X,prefix = ['DriveTrain'], columns = ['DriveTrain'])\n",
    "X.head()"
   ]
  },
  {
   "cell_type": "code",
   "execution_count": 32,
   "metadata": {
    "id": "pYWQWwFZ8jv9"
   },
   "outputs": [],
   "source": [
    "from sklearn.model_selection import train_test_split\n",
    "X_train, X_test, y_train, y_test = train_test_split(X, y, test_size=0.2, random_state=42)"
   ]
  },
  {
   "cell_type": "code",
   "execution_count": null,
   "metadata": {
    "colab": {
     "base_uri": "https://localhost:8080/"
    },
    "id": "R4XCpMcZ8lad",
    "outputId": "5cb0f476-e911-4955-e3ff-03b1faa2b085"
   },
   "outputs": [],
   "source": [
    "!pip install catboost"
   ]
  },
  {
   "cell_type": "code",
   "execution_count": 34,
   "metadata": {
    "colab": {
     "base_uri": "https://localhost:8080/"
    },
    "id": "3jYl9sSA8m7O",
    "outputId": "e627a9a0-a910-4e04-c078-bc9470929f1c"
   },
   "outputs": [
    {
     "name": "stdout",
     "output_type": "stream",
     "text": [
      "0:\tlearn: 5.3328917\ttest: 4.0241423\tbest: 4.0241423 (0)\ttotal: 57.7ms\tremaining: 2m 24s\n",
      "500:\tlearn: 0.3846745\ttest: 1.1431834\tbest: 1.1431834 (500)\ttotal: 3.01s\tremaining: 12s\n",
      "1000:\tlearn: 0.1192010\ttest: 1.1061383\tbest: 1.1061284 (992)\ttotal: 7.02s\tremaining: 10.5s\n",
      "1500:\tlearn: 0.0517035\ttest: 1.1011955\tbest: 1.1011955 (1500)\ttotal: 12.7s\tremaining: 8.45s\n",
      "2000:\tlearn: 0.0248165\ttest: 1.1002094\tbest: 1.1000621 (1778)\ttotal: 17.4s\tremaining: 4.33s\n",
      "2499:\tlearn: 0.0125061\ttest: 1.0997568\tbest: 1.0997055 (2461)\ttotal: 21.8s\tremaining: 0us\n",
      "\n",
      "bestTest = 1.099705532\n",
      "bestIteration = 2461\n",
      "\n",
      "Shrink model to first 2462 iterations.\n"
     ]
    },
    {
     "data": {
      "text/plain": [
       "<catboost.core.CatBoostRegressor at 0x7f6a61fa6700>"
      ]
     },
     "execution_count": 34,
     "metadata": {},
     "output_type": "execute_result"
    }
   ],
   "source": [
    "from catboost import CatBoostRegressor\n",
    "cat_model = CatBoostRegressor(iterations=2500, depth = 9,learning_rate = 0.04627823525262093, loss_function='RMSE', verbose = 500, random_seed = 777)\n",
    "cat_model.fit(X_train, y_train,eval_set=(X_test, y_test), use_best_model=True)"
   ]
  },
  {
   "cell_type": "code",
   "execution_count": 35,
   "metadata": {
    "colab": {
     "base_uri": "https://localhost:8080/"
    },
    "id": "HRferwHQ8rHt",
    "outputId": "7a123927-7c57-43fa-b693-2fded0bb1095"
   },
   "outputs": [
    {
     "name": "stdout",
     "output_type": "stream",
     "text": [
      "0:\tlearn: 5.0887000\ttotal: 20.5ms\tremaining: 51.3s\n",
      "500:\tlearn: 0.4311017\ttotal: 4.21s\tremaining: 16.8s\n",
      "1000:\tlearn: 0.1572416\ttotal: 8.7s\tremaining: 13s\n",
      "1500:\tlearn: 0.0842672\ttotal: 13.6s\tremaining: 9.07s\n",
      "2000:\tlearn: 0.0538282\ttotal: 15.3s\tremaining: 3.82s\n",
      "2499:\tlearn: 0.0413316\ttotal: 19.1s\tremaining: 0us\n"
     ]
    },
    {
     "data": {
      "text/plain": [
       "<catboost.core.CatBoostRegressor at 0x7f6a61fa6430>"
      ]
     },
     "execution_count": 35,
     "metadata": {},
     "output_type": "execute_result"
    }
   ],
   "source": [
    "#ในเมื่อปรับจูน model จนดีแล้ว จึงใช้ข้อมูลทั้งหมดในการเทรน\n",
    "cat_model = CatBoostRegressor(iterations=2500, depth=9,learning_rate=0.04627823525262093, loss_function='RMSE', verbose=500 , random_seed = 777)\n",
    "cat_model.fit(X, y)"
   ]
  },
  {
   "cell_type": "markdown",
   "metadata": {
    "id": "pTvUf5x_8tvd"
   },
   "source": [
    "Preprocessing ข้อมูล test ก่อนทำการ predict"
   ]
  },
  {
   "cell_type": "code",
   "execution_count": 36,
   "metadata": {
    "colab": {
     "base_uri": "https://localhost:8080/"
    },
    "id": "8YhH2_nY8rkS",
    "outputId": "635d18c0-4128-4cf1-83ca-f48ee01b1881"
   },
   "outputs": [
    {
     "data": {
      "text/plain": [
       "array([-0.35786655, -1.16254501, -0.91716528, -1.4202597 , -0.01855258,\n",
       "       -1.00028961,  0.        ,  1.        ,  0.        ])"
      ]
     },
     "execution_count": 36,
     "metadata": {},
     "output_type": "execute_result"
    }
   ],
   "source": [
    "# Preprocessing ข้อมูล test ก่อนทำการ predict\n",
    "df = pd.read_csv('../data/car-mpg.csv')\n",
    "df['Cylinders']=df['Cylinders'].fillna(df['Cylinders'].mean())\n",
    "X_pred = [2.8,4.,150.,2500.,108.,172.,0.,1.,0.]\n",
    "i=0\n",
    "for c in co:\n",
    "    X_pred[i] = (X_pred[i]-df[c].mean()) / df[c].std() #z-score\n",
    "    i+=1\n",
    "X_pred=np.array(X_pred)\n",
    "X_pred"
   ]
  },
  {
   "cell_type": "code",
   "execution_count": 37,
   "metadata": {
    "id": "g5axcXA88v4Z"
   },
   "outputs": [],
   "source": [
    "# predict \n",
    "y_pred = cat_model.predict([X_pred])"
   ]
  },
  {
   "cell_type": "markdown",
   "metadata": {
    "id": "v45b4Foz80tQ"
   },
   "source": [
    "<font size=\"4\">คำตอบ</font>"
   ]
  },
  {
   "cell_type": "code",
   "execution_count": 38,
   "metadata": {
    "colab": {
     "base_uri": "https://localhost:8080/"
    },
    "id": "kzwQs3el8xKR",
    "outputId": "4841013c-7c5c-4582-aace-b7e9a8ce0620"
   },
   "outputs": [
    {
     "name": "stdout",
     "output_type": "stream",
     "text": [
      "รถคันนี้กินน้ำมันประมาณ 25.79 MPG\n"
     ]
    }
   ],
   "source": [
    "#ans\n",
    "print(\"รถคันนี้กินน้ำมันประมาณ {:.2f} MPG\".format(y_pred[0]))"
   ]
  },
  {
   "cell_type": "markdown",
   "metadata": {
    "id": "xVHiMAJ-82cp"
   },
   "source": [
    "### 2.2"
   ]
  },
  {
   "cell_type": "markdown",
   "metadata": {
    "id": "GTqb8z8087cS"
   },
   "source": [
    "<font size=\"3\">วิเคราะห์ผลที่ได้รวมถึงน้ำหนักของแต่ละปัจจัย</font>"
   ]
  },
  {
   "cell_type": "code",
   "execution_count": 39,
   "metadata": {
    "colab": {
     "base_uri": "https://localhost:8080/"
    },
    "id": "BJzaWaDo8y5k",
    "outputId": "72954078-3a89-4b58-f4f3-33c0cbb1d41b"
   },
   "outputs": [
    {
     "data": {
      "text/plain": [
       "array([18.61549188,  5.67082254, 29.71636349, 20.76737423,  7.26174909,\n",
       "        8.82294591,  1.39412489,  5.0215862 ,  2.72954176])"
      ]
     },
     "execution_count": 39,
     "metadata": {},
     "output_type": "execute_result"
    }
   ],
   "source": [
    "#ดึงน้ำหนักแต่ละ feature ที่มีผลต่อคำตอบ\n",
    "importance = cat_model.feature_importances_\n",
    "importance"
   ]
  },
  {
   "cell_type": "code",
   "execution_count": 40,
   "metadata": {
    "colab": {
     "base_uri": "https://localhost:8080/",
     "height": 265
    },
    "id": "MFhyTg519EiE",
    "outputId": "29bb922d-ef97-4d72-b369-764af1e4dfeb"
   },
   "outputs": [
    {
     "data": {
      "image/png": "[encoded data removed]",
      "text/plain": [
       "<Figure size 432x288 with 1 Axes>"
      ]
     },
     "metadata": {
      "needs_background": "light"
     },
     "output_type": "display_data"
    }
   ],
   "source": [
    "import matplotlib.pyplot as plt\n",
    "\n",
    "feature_importances = pd.Series(importance, index=['EngineSize', 'Cylinders', 'Horsepower', 'Weight', 'Wheelbase', 'Length','DriveTrain_All','DriveTrain_Front','DriveTrain_Rear'])\n",
    "\n",
    "feature_importances.nlargest(10).plot(kind='barh')\n",
    "\n",
    "plt.show()"
   ]
  },
  {
   "cell_type": "markdown",
   "metadata": {
    "id": "Qkfu4ELC9HAu"
   },
   "source": [
    "<font size=\"3\">จากกราฟพบว่า Horusepower มีน้ำหนักมากสุด ตามมาด้วย weight, Enginesize ตามลำดับ</font>"
   ]
  },
  {
   "cell_type": "markdown",
   "metadata": {
    "id": "dK-JPhc99J-Z",
    "tags": []
   },
   "source": [
    "## ข้อ 3"
   ]
  },
  {
   "cell_type": "markdown",
   "metadata": {
    "id": "rj1ejrgt9Ny8"
   },
   "source": [
    "<font size=\"4\">หาความสัมพันธ์ทางคณิตศาสตร์<font/>"
   ]
  },
  {
   "cell_type": "code",
   "execution_count": 41,
   "metadata": {
    "id": "EjAEvnjn9Fdx"
   },
   "outputs": [],
   "source": [
    "import pandas as pd\n",
    "import numpy as np\n",
    "import matplotlib.pyplot as plt"
   ]
  },
  {
   "cell_type": "code",
   "execution_count": 42,
   "metadata": {
    "colab": {
     "base_uri": "https://localhost:8080/",
     "height": 206
    },
    "id": "QRUTlR7A9PW0",
    "outputId": "9fb3c854-d19a-48ed-cb85-6625d12bbb0b"
   },
   "outputs": [
    {
     "data": {
      "text/html": [
       "\n",
       "  <div id=\"df-5b144923-728d-43e0-97fe-719a989937e1\">\n",
       "    <div class=\"colab-df-container\">\n",
       "      <div>\n",
       "<style scoped>\n",
       "    .dataframe tbody tr th:only-of-type {\n",
       "        vertical-align: middle;\n",
       "    }\n",
       "\n",
       "    .dataframe tbody tr th {\n",
       "        vertical-align: top;\n",
       "    }\n",
       "\n",
       "    .dataframe thead th {\n",
       "        text-align: right;\n",
       "    }\n",
       "</style>\n",
       "<table border=\"1\" class=\"dataframe\">\n",
       "  <thead>\n",
       "    <tr style=\"text-align: right;\">\n",
       "      <th></th>\n",
       "      <th>x</th>\n",
       "      <th>y</th>\n",
       "    </tr>\n",
       "  </thead>\n",
       "  <tbody>\n",
       "    <tr>\n",
       "      <th>115</th>\n",
       "      <td>160</td>\n",
       "      <td>-51254.19264</td>\n",
       "    </tr>\n",
       "    <tr>\n",
       "      <th>116</th>\n",
       "      <td>162</td>\n",
       "      <td>-51706.61594</td>\n",
       "    </tr>\n",
       "    <tr>\n",
       "      <th>117</th>\n",
       "      <td>164</td>\n",
       "      <td>-53790.28012</td>\n",
       "    </tr>\n",
       "    <tr>\n",
       "      <th>118</th>\n",
       "      <td>166</td>\n",
       "      <td>-54276.33110</td>\n",
       "    </tr>\n",
       "    <tr>\n",
       "      <th>119</th>\n",
       "      <td>168</td>\n",
       "      <td>-54116.30938</td>\n",
       "    </tr>\n",
       "  </tbody>\n",
       "</table>\n",
       "</div>\n",
       "      <button class=\"colab-df-convert\" onclick=\"convertToInteractive('df-5b144923-728d-43e0-97fe-719a989937e1')\"\n",
       "              title=\"Convert this dataframe to an interactive table.\"\n",
       "              style=\"display:none;\">\n",
       "        \n",
       "  <svg xmlns=\"http://www.w3.org/2000/svg\" height=\"24px\"viewBox=\"0 0 24 24\"\n",
       "       width=\"24px\">\n",
       "    <path d=\"M0 0h24v24H0V0z\" fill=\"none\"/>\n",
       "    <path d=\"M18.56 5.44l.94 2.06.94-2.06 2.06-.94-2.06-.94-.94-2.06-.94 2.06-2.06.94zm-11 1L8.5 8.5l.94-2.06 2.06-.94-2.06-.94L8.5 2.5l-.94 2.06-2.06.94zm10 10l.94 2.06.94-2.06 2.06-.94-2.06-.94-.94-2.06-.94 2.06-2.06.94z\"/><path d=\"M17.41 7.96l-1.37-1.37c-.4-.4-.92-.59-1.43-.59-.52 0-1.04.2-1.43.59L10.3 9.45l-7.72 7.72c-.78.78-.78 2.05 0 2.83L4 21.41c.39.39.9.59 1.41.59.51 0 1.02-.2 1.41-.59l7.78-7.78 2.81-2.81c.8-.78.8-2.07 0-2.86zM5.41 20L4 18.59l7.72-7.72 1.47 1.35L5.41 20z\"/>\n",
       "  </svg>\n",
       "      </button>\n",
       "      \n",
       "  <style>\n",
       "    .colab-df-container {\n",
       "      display:flex;\n",
       "      flex-wrap:wrap;\n",
       "      gap: 12px;\n",
       "    }\n",
       "\n",
       "    .colab-df-convert {\n",
       "      background-color: #E8F0FE;\n",
       "      border: none;\n",
       "      border-radius: 50%;\n",
       "      cursor: pointer;\n",
       "      display: none;\n",
       "      fill: #1967D2;\n",
       "      height: 32px;\n",
       "      padding: 0 0 0 0;\n",
       "      width: 32px;\n",
       "    }\n",
       "\n",
       "    .colab-df-convert:hover {\n",
       "      background-color: #E2EBFA;\n",
       "      box-shadow: 0px 1px 2px rgba(60, 64, 67, 0.3), 0px 1px 3px 1px rgba(60, 64, 67, 0.15);\n",
       "      fill: #174EA6;\n",
       "    }\n",
       "\n",
       "    [theme=dark] .colab-df-convert {\n",
       "      background-color: #3B4455;\n",
       "      fill: #D2E3FC;\n",
       "    }\n",
       "\n",
       "    [theme=dark] .colab-df-convert:hover {\n",
       "      background-color: #434B5C;\n",
       "      box-shadow: 0px 1px 3px 1px rgba(0, 0, 0, 0.15);\n",
       "      filter: drop-shadow(0px 1px 2px rgba(0, 0, 0, 0.3));\n",
       "      fill: #FFFFFF;\n",
       "    }\n",
       "  </style>\n",
       "\n",
       "      <script>\n",
       "        const buttonEl =\n",
       "          document.querySelector('#df-5b144923-728d-43e0-97fe-719a989937e1 button.colab-df-convert');\n",
       "        buttonEl.style.display =\n",
       "          google.colab.kernel.accessAllowed ? 'block' : 'none';\n",
       "\n",
       "        async function convertToInteractive(key) {\n",
       "          const element = document.querySelector('#df-5b144923-728d-43e0-97fe-719a989937e1');\n",
       "          const dataTable =\n",
       "            await google.colab.kernel.invokeFunction('convertToInteractive',\n",
       "                                                     [key], {});\n",
       "          if (!dataTable) return;\n",
       "\n",
       "          const docLinkHtml = 'Like what you see? Visit the ' +\n",
       "            '<a target=\"_blank\" href=https://colab.research.google.com/notebooks/data_table.ipynb>data table notebook</a>'\n",
       "            + ' to learn more about interactive tables.';\n",
       "          element.innerHTML = '';\n",
       "          dataTable['output_type'] = 'display_data';\n",
       "          await google.colab.output.renderOutput(dataTable, element);\n",
       "          const docLink = document.createElement('div');\n",
       "          docLink.innerHTML = docLinkHtml;\n",
       "          element.appendChild(docLink);\n",
       "        }\n",
       "      </script>\n",
       "    </div>\n",
       "  </div>\n",
       "  "
      ],
      "text/plain": [
       "       x            y\n",
       "115  160 -51254.19264\n",
       "116  162 -51706.61594\n",
       "117  164 -53790.28012\n",
       "118  166 -54276.33110\n",
       "119  168 -54116.30938"
      ]
     },
     "execution_count": 42,
     "metadata": {},
     "output_type": "execute_result"
    }
   ],
   "source": [
    "df = pd.read_csv('../data/data3.csv')\n",
    "df.tail()"
   ]
  },
  {
   "cell_type": "code",
   "execution_count": 43,
   "metadata": {
    "id": "Q6nRJIfe9QQY"
   },
   "outputs": [],
   "source": [
    "X = df['x'].to_numpy()\n",
    "y = df['y'].to_numpy()"
   ]
  },
  {
   "cell_type": "markdown",
   "metadata": {
    "id": "X08KpTd79TTX"
   },
   "source": [
    "<font size=\"3\">สร้างกราฟเพื่อวิเคราะห์ความแม่นยำของ สมการที่ได้ โดยทดลองตั้งค่า degree ต่างกันเรื่อยๆ<font/>"
   ]
  },
  {
   "cell_type": "code",
   "execution_count": 44,
   "metadata": {
    "colab": {
     "base_uri": "https://localhost:8080/"
    },
    "id": "Vfp2shUS9RXK",
    "outputId": "ec53b6ce-1818-4667-b089-e309ea45b0b2"
   },
   "outputs": [
    {
     "data": {
      "text/plain": [
       "array([ 1.19513542e+03, -3.62201023e+00,  2.71158346e-01, -3.08421434e-02,\n",
       "        1.04212187e-04])"
      ]
     },
     "execution_count": 44,
     "metadata": {},
     "output_type": "execute_result"
    }
   ],
   "source": [
    "def polyregress(xdata,ydata,degree):\n",
    "  return np.polynomial.polynomial.polyfit(xdata,ydata,degree) #สร้างฟังชันก์เพื่อสร้างสมการขึ้นมา\n",
    "poly_x = polyregress(X,y,4) #โดยจะลองเปลี่ยนdegreeเรื่อยๆ เพื่อหาdegreeที่เหมาะสม\n",
    "poly_x\n"
   ]
  },
  {
   "cell_type": "markdown",
   "metadata": {
    "id": "lNogz8aj9XB7"
   },
   "source": [
    "<font size=\"4\">ได้สมการว่า <font/>\n",
    "<font size=\"3\">y = 0.000104X^3 + 0.271X^2 + -3.622X^1 + 119.513   <font/>"
   ]
  },
  {
   "cell_type": "code",
   "execution_count": 45,
   "metadata": {
    "colab": {
     "base_uri": "https://localhost:8080/",
     "height": 282
    },
    "id": "0mU5AiAb9Vfg",
    "outputId": "a16c7f0d-496d-4932-a3a5-81aedddb1a5c"
   },
   "outputs": [
    {
     "data": {
      "text/plain": [
       "[<matplotlib.lines.Line2D at 0x7f6a601bc7c0>]"
      ]
     },
     "execution_count": 45,
     "metadata": {},
     "output_type": "execute_result"
    },
    {
     "data": {
      "image/png": "[encoded data removed]",
      "text/plain": [
       "<Figure size 432x288 with 1 Axes>"
      ]
     },
     "metadata": {
      "needs_background": "light"
     },
     "output_type": "display_data"
    }
   ],
   "source": [
    "#สร้างกราฟเพื่อเปรียบเทียบระหว่างค่าจริงกับสมการที่สร้างขึ้น\n",
    "ans_arr=[]\n",
    "for a in range(-90,200,2):\n",
    "    ans=0\n",
    "    for j in range(len(poly_x)):\n",
    "        ans += poly_x[j]*a**j\n",
    "    ans_arr+=[ans]\n",
    "x_pred = np.arange(-90,200,2)\n",
    "df = pd.read_csv('./data/data3.csv')\n",
    "x = df['x']\n",
    "y = df['y']\n",
    "plt.plot(x,y,color='green')\n",
    "plt.plot(x_pred,ans_arr,color='orange')"
   ]
  },
  {
   "cell_type": "markdown",
   "metadata": {
    "id": "aFS3SK0t9al6"
   },
   "source": [
    "<font size=\"4\">พบว่า <font/>\n",
    "<font size=\"3\">y = 0.000104X^3 + 0.271X^2 + -3.622X^1 + 119.513  (คำตอบ) <font/>"
   ]
  },
  {
   "cell_type": "markdown",
   "metadata": {
    "id": "SWi8HbsD9cZx"
   },
   "source": [
    "<font size=\"3\">การใช้degree=4 ทำให้สมการที่ได้ไม่ overfit กับdataจนเกินไป<font/>"
   ]
  },
  {
   "cell_type": "markdown",
   "metadata": {
    "id": "dQzRE2F_9eV7"
   },
   "source": [
    "<font size=\"4\">ทำนายเมื่อ x=170<font/>"
   ]
  },
  {
   "cell_type": "code",
   "execution_count": 46,
   "metadata": {
    "id": "ibEhQTfp9Ys7"
   },
   "outputs": [],
   "source": [
    "#สร้าง data train จากสมการเพื่อเป็นการลด noise จากข้อมูลที่ได้\n",
    "ans_arr=[]\n",
    "for a in range(-70,170,1):\n",
    "    ans=0\n",
    "    for j in range(len(poly_x)):\n",
    "        ans += poly_x[j]*a**j\n",
    "    ans_arr+=[ans]"
   ]
  },
  {
   "cell_type": "code",
   "execution_count": 47,
   "metadata": {
    "id": "6CfrxfQ69f14"
   },
   "outputs": [],
   "source": [
    "X = np.arange(-70,170)\n",
    "y = np.array(ans_arr)"
   ]
  },
  {
   "cell_type": "code",
   "execution_count": 48,
   "metadata": {
    "id": "vWYD1kes9g4m"
   },
   "outputs": [],
   "source": [
    "from sklearn.model_selection import train_test_split\n",
    "X_train, X_test, y_train, y_test = train_test_split(X, y, test_size=0.2, random_state=42)"
   ]
  },
  {
   "cell_type": "code",
   "execution_count": null,
   "metadata": {
    "colab": {
     "base_uri": "https://localhost:8080/"
    },
    "id": "C_sZHn4u9iCr",
    "outputId": "ad383ab5-aa30-410c-dc34-27c3cc5a052c"
   },
   "outputs": [],
   "source": [
    "!pip install catboost"
   ]
  },
  {
   "cell_type": "code",
   "execution_count": 50,
   "metadata": {
    "colab": {
     "base_uri": "https://localhost:8080/"
    },
    "id": "EBtNckxi9i-W",
    "outputId": "c8db6697-cc2f-4dd6-8a3f-0a858b13df31"
   },
   "outputs": [
    {
     "name": "stdout",
     "output_type": "stream",
     "text": [
      "0:\tlearn: 17030.2746079\ttest: 19037.6941443\tbest: 19037.6941443 (0)\ttotal: 6.22ms\tremaining: 9.33s\n",
      "500:\tlearn: 146.3443352\ttest: 344.7809282\tbest: 344.6644336 (499)\ttotal: 1.09s\tremaining: 2.17s\n",
      "1000:\tlearn: 73.9084083\ttest: 354.1301984\tbest: 344.6191615 (506)\ttotal: 2.13s\tremaining: 1.06s\n",
      "1499:\tlearn: 46.0471271\ttest: 365.5396848\tbest: 344.6191615 (506)\ttotal: 3s\tremaining: 0us\n",
      "\n",
      "bestTest = 344.6191615\n",
      "bestIteration = 506\n",
      "\n",
      "Shrink model to first 507 iterations.\n"
     ]
    },
    {
     "data": {
      "text/plain": [
       "<catboost.core.CatBoostRegressor at 0x7f6a6031cdc0>"
      ]
     },
     "execution_count": 50,
     "metadata": {},
     "output_type": "execute_result"
    }
   ],
   "source": [
    "from catboost import CatBoostRegressor\n",
    "cat_model = CatBoostRegressor(iterations=1500, depth=9,learning_rate=0.04627823525262093, loss_function='RMSE', verbose=500)\n",
    "cat_model.fit(X_train, y_train,eval_set=(X_test, y_test))"
   ]
  },
  {
   "cell_type": "markdown",
   "metadata": {
    "id": "z1dIEhrA9nYr"
   },
   "source": [
    "<font size=\"3\">ค่า y เมื่อ x = 170 (คำตอบ)<font/>"
   ]
  },
  {
   "cell_type": "code",
   "execution_count": 51,
   "metadata": {
    "colab": {
     "base_uri": "https://localhost:8080/"
    },
    "id": "P645s91F9knL",
    "outputId": "18aa3825-7d16-4615-efe8-3bd08b9efce5"
   },
   "outputs": [
    {
     "name": "stdout",
     "output_type": "stream",
     "text": [
      "เมื่อ x = 170 ค่า y จะเท่ากับ -55456.474412783056\n"
     ]
    }
   ],
   "source": [
    "y_pred = cat_model.predict([170.])\n",
    "print(\"เมื่อ x = 170 ค่า y จะเท่ากับ\",y_pred)"
   ]
  },
  {
   "cell_type": "code",
   "execution_count": 52,
   "metadata": {
    "colab": {
     "base_uri": "https://localhost:8080/",
     "height": 282
    },
    "id": "THkKVxny9qHp",
    "outputId": "b14f25b4-e493-4c7b-e391-9946954de688"
   },
   "outputs": [
    {
     "data": {
      "text/plain": [
       "<matplotlib.collections.PathCollection at 0x7f6a6011e610>"
      ]
     },
     "execution_count": 52,
     "metadata": {},
     "output_type": "execute_result"
    },
    {
     "data": {
      "image/png": "[encoded data removed]",
      "text/plain": [
       "<Figure size 432x288 with 1 Axes>"
      ]
     },
     "metadata": {
      "needs_background": "light"
     },
     "output_type": "display_data"
    }
   ],
   "source": [
    "#เมื่อนำไปเปรียบเทียบกับ data ที่ให้มา\n",
    "ans_arr=[]\n",
    "for a in range(-90,200,2):\n",
    "    ans=0\n",
    "    for j in range(len(poly_x)):\n",
    "        ans += poly_x[j]*a**j\n",
    "    ans_arr+=[ans]\n",
    "x_pred = np.arange(-90,200,2)\n",
    "df = pd.read_csv('../data/data3.csv')\n",
    "x = df['x']\n",
    "y = df['y']\n",
    "plt.plot(x,y,color='green')\n",
    "plt.plot(x_pred,ans_arr,color='orange')\n",
    "plt.scatter(170.,y_pred,c='r')"
   ]
  }
 ],
 "metadata": {
  "colab": {
   "collapsed_sections": [
    "uuQO1URM65Cz",
    "r9a4Mfc67gUt",
    "mzwBs9QV8K0h"
   ],
   "provenance": []
  },
  "kernelspec": {
   "display_name": "Python 3 (ipykernel)",
   "language": "python",
   "name": "python3"
  },
  "language_info": {
   "codemirror_mode": {
    "name": "ipython",
    "version": 3
   },
   "file_extension": ".py",
   "mimetype": "text/x-python",
   "name": "python",
   "nbconvert_exporter": "python",
   "pygments_lexer": "ipython3",
   "version": "3.7.9"
  }
 },
 "nbformat": 4,
 "nbformat_minor": 4
}
