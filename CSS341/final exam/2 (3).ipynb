{
 "cells": [
  {
   "cell_type": "markdown",
   "id": "679f25d3-22fd-4cd6-ae28-ba95c53139d7",
   "metadata": {},
   "source": [
    "## ข้อ 2"
   ]
  },
  {
   "cell_type": "markdown",
   "id": "09369bff-1fab-45c8-a89e-18cf278e2659",
   "metadata": {},
   "source": [
    "<font size=\"4\">2.1) รถคันนี้น่าจะกินน้ำมันเท่าใด (กี่ไมล์/แกลลอน (MPG)) </font>"
   ]
  },
  {
   "cell_type": "code",
   "execution_count": 1,
   "id": "a5618087-37e5-441d-b9b0-acdd94cfb239",
   "metadata": {},
   "outputs": [],
   "source": [
    "import pandas as pd\n",
    "import numpy as np"
   ]
  },
  {
   "cell_type": "code",
   "execution_count": 2,
   "id": "269428df-6ea9-41e5-9a39-27244a413d06",
   "metadata": {},
   "outputs": [
    {
     "data": {
      "text/plain": [
       "Make          0\n",
       "DriveTrain    0\n",
       "EngineSize    0\n",
       "Cylinders     2\n",
       "Horsepower    0\n",
       "MPG           0\n",
       "Weight        0\n",
       "Wheelbase     0\n",
       "Length        0\n",
       "dtype: int64"
      ]
     },
     "execution_count": 2,
     "metadata": {},
     "output_type": "execute_result"
    }
   ],
   "source": [
    "df = pd.read_csv('data/car-mpg.csv')\n",
    "df.isnull().sum()"
   ]
  },
  {
   "cell_type": "code",
   "execution_count": 4,
   "id": "62e11c64-40e0-4eb6-84bc-30a83d533ba4",
   "metadata": {},
   "outputs": [],
   "source": [
    "#fill null values\n",
    "df['Cylinders'] = df['Cylinders'].fillna(df['Cylinders'].mean())"
   ]
  },
  {
   "cell_type": "code",
   "execution_count": 5,
   "id": "d6362f46-d7f8-4f91-aefc-cee2a8b3063e",
   "metadata": {},
   "outputs": [],
   "source": [
    "#ปรับให้เป็น z-score\n",
    "co = ['EngineSize', 'Cylinders', 'Horsepower', 'Weight', 'Wheelbase', 'Length']\n",
    "for c in co:\n",
    "    df[c] = (df[c]-df[c].mean()) / df[c].std()"
   ]
  },
  {
   "cell_type": "code",
   "execution_count": 6,
   "id": "dee37a27-23cc-456f-868c-be987f45d5a1",
   "metadata": {},
   "outputs": [],
   "source": [
    "#ลบcolumn Make ทิ้งเพราะในข้อมูล test ไม่มีบอก\n",
    "X = df.drop(columns=['MPG','Make'])\n",
    "y = df['MPG']"
   ]
  },
  {
   "cell_type": "code",
   "execution_count": 7,
   "id": "c9bbd87d-4318-4934-9754-379579e3fc73",
   "metadata": {},
   "outputs": [
    {
     "data": {
      "text/html": [
       "<div>\n",
       "<style scoped>\n",
       "    .dataframe tbody tr th:only-of-type {\n",
       "        vertical-align: middle;\n",
       "    }\n",
       "\n",
       "    .dataframe tbody tr th {\n",
       "        vertical-align: top;\n",
       "    }\n",
       "\n",
       "    .dataframe thead th {\n",
       "        text-align: right;\n",
       "    }\n",
       "</style>\n",
       "<table border=\"1\" class=\"dataframe\">\n",
       "  <thead>\n",
       "    <tr style=\"text-align: right;\">\n",
       "      <th></th>\n",
       "      <th>EngineSize</th>\n",
       "      <th>Cylinders</th>\n",
       "      <th>Horsepower</th>\n",
       "      <th>Weight</th>\n",
       "      <th>Wheelbase</th>\n",
       "      <th>Length</th>\n",
       "      <th>DriveTrain_All</th>\n",
       "      <th>DriveTrain_Front</th>\n",
       "      <th>DriveTrain_Rear</th>\n",
       "    </tr>\n",
       "  </thead>\n",
       "  <tbody>\n",
       "    <tr>\n",
       "      <th>0</th>\n",
       "      <td>0.273563</td>\n",
       "      <td>0.123803</td>\n",
       "      <td>0.683703</td>\n",
       "      <td>1.150285</td>\n",
       "      <td>-0.259174</td>\n",
       "      <td>0.183720</td>\n",
       "      <td>1</td>\n",
       "      <td>0</td>\n",
       "      <td>0</td>\n",
       "    </tr>\n",
       "    <tr>\n",
       "      <th>1</th>\n",
       "      <td>-1.079501</td>\n",
       "      <td>-1.162545</td>\n",
       "      <td>-0.221136</td>\n",
       "      <td>-1.053980</td>\n",
       "      <td>-0.860727</td>\n",
       "      <td>-1.000290</td>\n",
       "      <td>0</td>\n",
       "      <td>1</td>\n",
       "      <td>0</td>\n",
       "    </tr>\n",
       "    <tr>\n",
       "      <th>2</th>\n",
       "      <td>-0.718684</td>\n",
       "      <td>-1.162545</td>\n",
       "      <td>-0.221136</td>\n",
       "      <td>-0.458447</td>\n",
       "      <td>-0.379485</td>\n",
       "      <td>-0.234166</td>\n",
       "      <td>0</td>\n",
       "      <td>1</td>\n",
       "      <td>0</td>\n",
       "    </tr>\n",
       "    <tr>\n",
       "      <th>3</th>\n",
       "      <td>0.002951</td>\n",
       "      <td>0.123803</td>\n",
       "      <td>0.753306</td>\n",
       "      <td>-0.003891</td>\n",
       "      <td>-0.018553</td>\n",
       "      <td>-0.025223</td>\n",
       "      <td>0</td>\n",
       "      <td>1</td>\n",
       "      <td>0</td>\n",
       "    </tr>\n",
       "    <tr>\n",
       "      <th>4</th>\n",
       "      <td>0.273563</td>\n",
       "      <td>0.123803</td>\n",
       "      <td>0.126879</td>\n",
       "      <td>0.397962</td>\n",
       "      <td>0.823622</td>\n",
       "      <td>0.740901</td>\n",
       "      <td>0</td>\n",
       "      <td>1</td>\n",
       "      <td>0</td>\n",
       "    </tr>\n",
       "  </tbody>\n",
       "</table>\n",
       "</div>"
      ],
      "text/plain": [
       "   EngineSize  Cylinders  Horsepower    Weight  Wheelbase    Length  \\\n",
       "0    0.273563   0.123803    0.683703  1.150285  -0.259174  0.183720   \n",
       "1   -1.079501  -1.162545   -0.221136 -1.053980  -0.860727 -1.000290   \n",
       "2   -0.718684  -1.162545   -0.221136 -0.458447  -0.379485 -0.234166   \n",
       "3    0.002951   0.123803    0.753306 -0.003891  -0.018553 -0.025223   \n",
       "4    0.273563   0.123803    0.126879  0.397962   0.823622  0.740901   \n",
       "\n",
       "   DriveTrain_All  DriveTrain_Front  DriveTrain_Rear  \n",
       "0               1                 0                0  \n",
       "1               0                 1                0  \n",
       "2               0                 1                0  \n",
       "3               0                 1                0  \n",
       "4               0                 1                0  "
      ]
     },
     "execution_count": 7,
     "metadata": {},
     "output_type": "execute_result"
    }
   ],
   "source": [
    "#ทำ one-hot encoding\n",
    "X = pd.get_dummies(X,prefix = ['DriveTrain'], columns = ['DriveTrain'])\n",
    "X.head()"
   ]
  },
  {
   "cell_type": "code",
   "execution_count": 9,
   "id": "68c77ac1-0f96-4d16-9b6e-b357c2132ae4",
   "metadata": {},
   "outputs": [],
   "source": [
    "from sklearn.model_selection import train_test_split\n",
    "X_train, X_test, y_train, y_test = train_test_split(X, y, test_size=0.2, random_state=42)"
   ]
  },
  {
   "cell_type": "code",
   "execution_count": null,
   "id": "fec20b28-0dc6-464c-9ce4-663fc9bde441",
   "metadata": {},
   "outputs": [],
   "source": [
    "!pip install catboost"
   ]
  },
  {
   "cell_type": "code",
   "execution_count": 29,
   "id": "7715cc49-5203-4f85-a9c9-8e191bf33f31",
   "metadata": {},
   "outputs": [
    {
     "name": "stdout",
     "output_type": "stream",
     "text": [
      "0:\tlearn: 5.3328917\ttest: 4.0241423\tbest: 4.0241423 (0)\ttotal: 6.38ms\tremaining: 15.9s\n",
      "500:\tlearn: 0.3846745\ttest: 1.1431834\tbest: 1.1431834 (500)\ttotal: 1.99s\tremaining: 7.95s\n",
      "1000:\tlearn: 0.1192010\ttest: 1.1061383\tbest: 1.1061284 (992)\ttotal: 4.27s\tremaining: 6.4s\n",
      "1500:\tlearn: 0.0517035\ttest: 1.1011955\tbest: 1.1011955 (1500)\ttotal: 6.66s\tremaining: 4.43s\n",
      "2000:\tlearn: 0.0248165\ttest: 1.1002094\tbest: 1.1000621 (1778)\ttotal: 9.08s\tremaining: 2.26s\n",
      "2499:\tlearn: 0.0125061\ttest: 1.0997568\tbest: 1.0997055 (2461)\ttotal: 11.5s\tremaining: 0us\n",
      "\n",
      "bestTest = 1.099705532\n",
      "bestIteration = 2461\n",
      "\n",
      "Shrink model to first 2462 iterations.\n"
     ]
    },
    {
     "data": {
      "text/plain": [
       "<catboost.core.CatBoostRegressor at 0x20081fb9448>"
      ]
     },
     "execution_count": 29,
     "metadata": {},
     "output_type": "execute_result"
    }
   ],
   "source": [
    "from catboost import CatBoostRegressor\n",
    "cat_model = CatBoostRegressor(iterations=2500, depth = 9,learning_rate = 0.04627823525262093, loss_function='RMSE', verbose = 500, random_seed = 777)\n",
    "cat_model.fit(X_train, y_train,eval_set=(X_test, y_test), use_best_model=True)"
   ]
  },
  {
   "cell_type": "code",
   "execution_count": 31,
   "id": "fee856c7-126b-470d-ad90-d265c474e095",
   "metadata": {},
   "outputs": [
    {
     "name": "stdout",
     "output_type": "stream",
     "text": [
      "0:\tlearn: 5.0887000\ttotal: 7.27ms\tremaining: 18.2s\n",
      "500:\tlearn: 0.4311017\ttotal: 2.09s\tremaining: 8.34s\n",
      "1000:\tlearn: 0.1572416\ttotal: 4.57s\tremaining: 6.84s\n",
      "1500:\tlearn: 0.0842672\ttotal: 6.91s\tremaining: 4.6s\n",
      "2000:\tlearn: 0.0538282\ttotal: 9.27s\tremaining: 2.31s\n",
      "2499:\tlearn: 0.0413316\ttotal: 11.8s\tremaining: 0us\n"
     ]
    },
    {
     "data": {
      "text/plain": [
       "<catboost.core.CatBoostRegressor at 0x200f9e0cd88>"
      ]
     },
     "execution_count": 31,
     "metadata": {},
     "output_type": "execute_result"
    }
   ],
   "source": [
    "#ในเมื่อปรับจูน model จนดีแล้ว จึงใช้ข้อมูลทั้งหมดในการเทรน\n",
    "cat_model = CatBoostRegressor(iterations=2500, depth=9,learning_rate=0.04627823525262093, loss_function='RMSE', verbose=500 , random_seed = 777)\n",
    "cat_model.fit(X, y)"
   ]
  },
  {
   "cell_type": "markdown",
   "id": "f7794cda-2664-44e8-9428-2170ccda81df",
   "metadata": {},
   "source": [
    "Preprocessing ข้อมูล test ก่อนทำการ predict"
   ]
  },
  {
   "cell_type": "code",
   "execution_count": 41,
   "id": "d6a22e55-ddab-4e0f-9fe1-b649827379a1",
   "metadata": {},
   "outputs": [
    {
     "data": {
      "text/plain": [
       "array([-0.35786655, -1.16254501, -0.91716528, -1.4202597 , -0.01855258,\n",
       "       -1.00028961,  0.        ,  1.        ,  0.        ])"
      ]
     },
     "execution_count": 41,
     "metadata": {},
     "output_type": "execute_result"
    }
   ],
   "source": [
    "# Preprocessing ข้อมูล test ก่อนทำการ predict\n",
    "df = pd.read_csv('data/car-mpg.csv')\n",
    "df['Cylinders']=df['Cylinders'].fillna(df['Cylinders'].mean())\n",
    "X_pred = [2.8,4.,150.,2500.,108.,172.,0.,1.,0.]\n",
    "i=0\n",
    "for c in co:\n",
    "    X_pred[i] = (X_pred[i]-df[c].mean()) / df[c].std() #z-score\n",
    "    i+=1\n",
    "X_pred=np.array(X_pred)\n",
    "X_pred"
   ]
  },
  {
   "cell_type": "code",
   "execution_count": 42,
   "id": "2d5fd7e8-0cac-469a-a550-43a387f0fa71",
   "metadata": {},
   "outputs": [],
   "source": [
    "# predict \n",
    "y_pred = cat_model.predict([X_pred])"
   ]
  },
  {
   "cell_type": "markdown",
   "id": "89a26c37-a9fe-4ded-bd44-5c32f978265c",
   "metadata": {},
   "source": [
    "<font size=\"4\">คำตอบ</font>"
   ]
  },
  {
   "cell_type": "code",
   "execution_count": 43,
   "id": "a6630172-64e4-461e-b372-d340adafea0c",
   "metadata": {},
   "outputs": [
    {
     "name": "stdout",
     "output_type": "stream",
     "text": [
      "รถคันนี้กินน้ำมันประมาณ 25.79 MPG\n"
     ]
    }
   ],
   "source": [
    "#ans\n",
    "print(\"รถคันนี้กินน้ำมันประมาณ {:.2f} MPG\".format(y_pred[0]))"
   ]
  },
  {
   "cell_type": "markdown",
   "id": "83b32a4d-314a-4577-b54a-0c78d227e7e7",
   "metadata": {},
   "source": [
    "<font size=\"4\">2.2) วิเคราะห์ผลที่ได้รวมถึงน้ำหนักของแต่ละปัจจัย</font>"
   ]
  },
  {
   "cell_type": "code",
   "execution_count": 44,
   "id": "de286cb8-81b8-4132-9337-5119af4dc56c",
   "metadata": {},
   "outputs": [
    {
     "data": {
      "text/plain": [
       "array([18.61549188,  5.67082254, 29.71636349, 20.76737423,  7.26174909,\n",
       "        8.82294591,  1.39412489,  5.0215862 ,  2.72954176])"
      ]
     },
     "execution_count": 44,
     "metadata": {},
     "output_type": "execute_result"
    }
   ],
   "source": [
    "#ดึงน้ำหนักแต่ละ feature ที่มีผลต่อคำตอบ\n",
    "importance = cat_model.feature_importances_\n",
    "importance"
   ]
  },
  {
   "cell_type": "code",
   "execution_count": 295,
   "id": "b2225e4b-b2f3-431c-b605-0d09eaa1da36",
   "metadata": {},
   "outputs": [
    {
     "data": {
      "image/png": "[encoded data removed]",
      "text/plain": [
       "<Figure size 640x480 with 1 Axes>"
      ]
     },
     "metadata": {},
     "output_type": "display_data"
    }
   ],
   "source": [
    "import matplotlib.pyplot as plt\n",
    "\n",
    "feature_importances = pd.Series(importance, index=['EngineSize', 'Cylinders', 'Horsepower', 'Weight', 'Wheelbase', 'Length','DriveTrain_All','DriveTrain_Front','DriveTrain_Rear'])\n",
    "\n",
    "feature_importances.nlargest(10).plot(kind='barh')\n",
    "\n",
    "plt.show()"
   ]
  },
  {
   "cell_type": "markdown",
   "id": "4909758d-0f36-401c-bc7c-c3e9523c1d39",
   "metadata": {},
   "source": [
    "<font size=\"3\">จากกราฟพบว่า Horusepower มีน้ำหนักมากสุด ตามมาด้วย weight, Enginesize ตามลำดับ</font>"
   ]
  },
  {
   "cell_type": "code",
   "execution_count": null,
   "id": "c7322681-ae01-4dd1-84ca-c12409dc09ba",
   "metadata": {},
   "outputs": [],
   "source": []
  }
 ],
 "metadata": {
  "kernelspec": {
   "display_name": "Python 3 (ipykernel)",
   "language": "python",
   "name": "python3"
  },
  "language_info": {
   "codemirror_mode": {
    "name": "ipython",
    "version": 3
   },
   "file_extension": ".py",
   "mimetype": "text/x-python",
   "name": "python",
   "nbconvert_exporter": "python",
   "pygments_lexer": "ipython3",
   "version": "3.7.9"
  }
 },
 "nbformat": 4,
 "nbformat_minor": 5
}
