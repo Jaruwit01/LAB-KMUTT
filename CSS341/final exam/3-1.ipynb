{
 "cells": [
  {
   "cell_type": "markdown",
   "id": "dc9a34a2-f703-4b69-9991-a92f50c7f7b1",
   "metadata": {},
   "source": [
    "## ข้อ 3"
   ]
  },
  {
   "cell_type": "markdown",
   "id": "5f59e4ee-a683-4e06-889d-2b5be1c4eb38",
   "metadata": {},
   "source": [
    "<font size=\"4\">หาความสัมพันธ์ทางคณิตศาสตร์<font/>"
   ]
  },
  {
   "cell_type": "code",
   "execution_count": 2,
   "id": "5c761de5-acd2-4207-9db3-142af40c41c3",
   "metadata": {
    "id": "5c761de5-acd2-4207-9db3-142af40c41c3"
   },
   "outputs": [],
   "source": [
    "import pandas as pd\n",
    "import numpy as np\n",
    "import matplotlib.pyplot as plt"
   ]
  },
  {
   "cell_type": "code",
   "execution_count": 3,
   "id": "ddd1d01c-c6f7-4dd8-8698-db69faeb6528",
   "metadata": {
    "colab": {
     "base_uri": "https://localhost:8080/",
     "height": 206
    },
    "id": "ddd1d01c-c6f7-4dd8-8698-db69faeb6528",
    "outputId": "61cc376a-6426-4a80-dfa8-eee71078bedd"
   },
   "outputs": [
    {
     "data": {
      "text/html": [
       "<div>\n",
       "<style scoped>\n",
       "    .dataframe tbody tr th:only-of-type {\n",
       "        vertical-align: middle;\n",
       "    }\n",
       "\n",
       "    .dataframe tbody tr th {\n",
       "        vertical-align: top;\n",
       "    }\n",
       "\n",
       "    .dataframe thead th {\n",
       "        text-align: right;\n",
       "    }\n",
       "</style>\n",
       "<table border=\"1\" class=\"dataframe\">\n",
       "  <thead>\n",
       "    <tr style=\"text-align: right;\">\n",
       "      <th></th>\n",
       "      <th>x</th>\n",
       "      <th>y</th>\n",
       "    </tr>\n",
       "  </thead>\n",
       "  <tbody>\n",
       "    <tr>\n",
       "      <th>115</th>\n",
       "      <td>160</td>\n",
       "      <td>-51254.19264</td>\n",
       "    </tr>\n",
       "    <tr>\n",
       "      <th>116</th>\n",
       "      <td>162</td>\n",
       "      <td>-51706.61594</td>\n",
       "    </tr>\n",
       "    <tr>\n",
       "      <th>117</th>\n",
       "      <td>164</td>\n",
       "      <td>-53790.28012</td>\n",
       "    </tr>\n",
       "    <tr>\n",
       "      <th>118</th>\n",
       "      <td>166</td>\n",
       "      <td>-54276.33110</td>\n",
       "    </tr>\n",
       "    <tr>\n",
       "      <th>119</th>\n",
       "      <td>168</td>\n",
       "      <td>-54116.30938</td>\n",
       "    </tr>\n",
       "  </tbody>\n",
       "</table>\n",
       "</div>"
      ],
      "text/plain": [
       "       x            y\n",
       "115  160 -51254.19264\n",
       "116  162 -51706.61594\n",
       "117  164 -53790.28012\n",
       "118  166 -54276.33110\n",
       "119  168 -54116.30938"
      ]
     },
     "execution_count": 3,
     "metadata": {},
     "output_type": "execute_result"
    }
   ],
   "source": [
    "df = pd.read_csv('./data/data3.csv')\n",
    "df.tail()"
   ]
  },
  {
   "cell_type": "code",
   "execution_count": 4,
   "id": "c981408f-3826-4d87-90a0-c0e632ac7598",
   "metadata": {
    "id": "c981408f-3826-4d87-90a0-c0e632ac7598"
   },
   "outputs": [],
   "source": [
    "X = df['x'].to_numpy()\n",
    "y = df['y'].to_numpy()"
   ]
  },
  {
   "cell_type": "markdown",
   "id": "b5b80f88-3353-41a3-9aaa-6da729b83e55",
   "metadata": {},
   "source": [
    "<font size=\"3\">สร้างกราฟเพื่อวิเคราะห์ความแม่นยำของ สมการที่ได้ โดยทดลองตั้งค่า degree ต่างกันเรื่อยๆ<font/>"
   ]
  },
  {
   "cell_type": "code",
   "execution_count": 5,
   "id": "1024411c-292d-488b-904a-024affb220b5",
   "metadata": {
    "id": "1024411c-292d-488b-904a-024affb220b5"
   },
   "outputs": [
    {
     "data": {
      "text/plain": [
       "array([ 1.19513542e+03, -3.62201023e+00,  2.71158346e-01, -3.08421434e-02,\n",
       "        1.04212187e-04])"
      ]
     },
     "execution_count": 5,
     "metadata": {},
     "output_type": "execute_result"
    }
   ],
   "source": [
    "def polyregress(xdata,ydata,degree):\n",
    "  return np.polynomial.polynomial.polyfit(xdata,ydata,degree) #สร้างฟังชันก์เพื่อสร้างสมการขึ้นมา\n",
    "poly_x = polyregress(X,y,4) #โดยจะลองเปลี่ยนdegreeเรื่อยๆ เพื่อหาdegreeที่เหมาะสม\n",
    "poly_x\n"
   ]
  },
  {
   "cell_type": "markdown",
   "id": "761db531-818d-4745-b0eb-35888df13bbe",
   "metadata": {},
   "source": [
    "<font size=\"4\">ได้สมการว่า <font/>\n",
    "<font size=\"3\">y = 0.000104X^3 + 0.271X^2 + -3.622X^1 + 119.513   <font/>"
   ]
  },
  {
   "cell_type": "code",
   "execution_count": 6,
   "id": "7c7975d2-2ddc-478c-a8ca-7470bcb18077",
   "metadata": {
    "colab": {
     "base_uri": "https://localhost:8080/",
     "height": 282
    },
    "id": "d9a53cf8-3ac7-466f-8e37-1bc8655bc908",
    "outputId": "5965fa8d-dc1d-4ca3-dc1f-21ac8911d6a6"
   },
   "outputs": [
    {
     "data": {
      "text/plain": [
       "[<matplotlib.lines.Line2D at 0x216e552ee88>]"
      ]
     },
     "execution_count": 6,
     "metadata": {},
     "output_type": "execute_result"
    },
    {
     "data": {
      "image/png": "[encoded data removed]",
      "text/plain": [
       "<Figure size 640x480 with 1 Axes>"
      ]
     },
     "metadata": {},
     "output_type": "display_data"
    }
   ],
   "source": [
    "#สร้างกราฟเพื่อเปรียบเทียบระหว่างค่าจริงกับสมการที่สร้างขึ้น\n",
    "ans_arr=[]\n",
    "for a in range(-90,200,2):\n",
    "    ans=0\n",
    "    for j in range(len(poly_x)):\n",
    "        ans += poly_x[j]*a**j\n",
    "    ans_arr+=[ans]\n",
    "x_pred = np.arange(-90,200,2)\n",
    "df = pd.read_csv('./data/data3.csv')\n",
    "x = df['x']\n",
    "y = df['y']\n",
    "plt.plot(x,y,color='green')\n",
    "plt.plot(x_pred,ans_arr,color='orange')"
   ]
  },
  {
   "cell_type": "markdown",
   "id": "ade6b68d-25a3-4e03-8727-53fd02400afd",
   "metadata": {},
   "source": [
    "<font size=\"4\">พบว่า <font/>\n",
    "<font size=\"3\">y = 0.000104X^3 + 0.271X^2 + -3.622X^1 + 119.513  (คำตอบ) <font/>"
   ]
  },
  {
   "cell_type": "markdown",
   "id": "a4e096e9-e335-4a6f-991a-2f09f07a6fa2",
   "metadata": {},
   "source": [
    "<font size=\"3\">การใช้degree=4 ทำให้สมการที่ได้ไม่ overfit กับdataจนเกินไป<font/>"
   ]
  },
  {
   "cell_type": "markdown",
   "id": "6ec47f2c-c985-41e9-91ab-5f38f455d775",
   "metadata": {},
   "source": [
    "<font size=\"4\">ทำนายเมื่อ x=170<font/>"
   ]
  },
  {
   "cell_type": "code",
   "execution_count": 7,
   "id": "cbbc2a7e-db62-458f-a907-2d2e5a47eda5",
   "metadata": {},
   "outputs": [],
   "source": [
    "#สร้าง data train จากสมการเพื่อเป็นการลด noise จากข้อมูลที่ได้\n",
    "ans_arr=[]\n",
    "for a in range(-70,170,1):\n",
    "    ans=0\n",
    "    for j in range(len(poly_x)):\n",
    "        ans += poly_x[j]*a**j\n",
    "    ans_arr+=[ans]"
   ]
  },
  {
   "cell_type": "code",
   "execution_count": 8,
   "id": "b1fad0fe-9a69-42f2-8427-37b341b4e5b7",
   "metadata": {},
   "outputs": [],
   "source": [
    "X = np.arange(-70,170)\n",
    "y = np.array(ans_arr)"
   ]
  },
  {
   "cell_type": "code",
   "execution_count": 9,
   "id": "ee55ba48-ebc9-4290-96f1-b367949aee22",
   "metadata": {
    "id": "ee55ba48-ebc9-4290-96f1-b367949aee22"
   },
   "outputs": [],
   "source": [
    "from sklearn.model_selection import train_test_split\n",
    "X_train, X_test, y_train, y_test = train_test_split(X, y, test_size=0.2, random_state=42)"
   ]
  },
  {
   "cell_type": "code",
   "execution_count": null,
   "id": "pWvgmniVPmdH",
   "metadata": {
    "id": "pWvgmniVPmdH"
   },
   "outputs": [],
   "source": [
    "!pip install catboost"
   ]
  },
  {
   "cell_type": "code",
   "execution_count": 10,
   "id": "23660ef7-f9b6-45e4-833b-9896af022dbc",
   "metadata": {
    "id": "23660ef7-f9b6-45e4-833b-9896af022dbc"
   },
   "outputs": [
    {
     "name": "stdout",
     "output_type": "stream",
     "text": [
      "0:\tlearn: 17030.2746079\ttest: 19037.6941443\tbest: 19037.6941443 (0)\ttotal: 153ms\tremaining: 3m 48s\n",
      "500:\tlearn: 146.3443352\ttest: 344.7809282\tbest: 344.6644336 (499)\ttotal: 1.75s\tremaining: 3.48s\n",
      "1000:\tlearn: 73.9084083\ttest: 354.1301984\tbest: 344.6191615 (506)\ttotal: 3.29s\tremaining: 1.64s\n",
      "1499:\tlearn: 46.0471271\ttest: 365.5396848\tbest: 344.6191615 (506)\ttotal: 4.85s\tremaining: 0us\n",
      "\n",
      "bestTest = 344.6191615\n",
      "bestIteration = 506\n",
      "\n",
      "Shrink model to first 507 iterations.\n"
     ]
    },
    {
     "data": {
      "text/plain": [
       "<catboost.core.CatBoostRegressor at 0x216e87e40c8>"
      ]
     },
     "execution_count": 10,
     "metadata": {},
     "output_type": "execute_result"
    }
   ],
   "source": [
    "from catboost import CatBoostRegressor\n",
    "cat_model = CatBoostRegressor(iterations=1500, depth=9,learning_rate=0.04627823525262093, loss_function='RMSE', verbose=500)\n",
    "cat_model.fit(X_train, y_train,eval_set=(X_test, y_test))"
   ]
  },
  {
   "cell_type": "markdown",
   "id": "de504a50-84d5-45aa-a391-d8ea51dab1bc",
   "metadata": {},
   "source": [
    "<font size=\"3\">ค่า y เมื่อ x = 170 (คำตอบ)<font/>"
   ]
  },
  {
   "cell_type": "code",
   "execution_count": 16,
   "id": "cbe883b7-26c4-4804-a800-04c4b608eaef",
   "metadata": {
    "colab": {
     "base_uri": "https://localhost:8080/"
    },
    "id": "cbe883b7-26c4-4804-a800-04c4b608eaef",
    "outputId": "ad260f3c-4e06-406b-af69-83a7d28f040c"
   },
   "outputs": [
    {
     "name": "stdout",
     "output_type": "stream",
     "text": [
      "เมื่อ x = 170 ค่า y จะเท่ากับ -55456.474412783056\n"
     ]
    }
   ],
   "source": [
    "y_pred = cat_model.predict([170.])\n",
    "print(\"เมื่อ x = 170 ค่า y จะเท่ากับ\",y_pred)"
   ]
  },
  {
   "cell_type": "code",
   "execution_count": 17,
   "id": "d9f03c47-77ad-4d64-a132-fa31e305521a",
   "metadata": {
    "id": "d9f03c47-77ad-4d64-a132-fa31e305521a"
   },
   "outputs": [
    {
     "data": {
      "text/plain": [
       "<matplotlib.collections.PathCollection at 0x216e9879588>"
      ]
     },
     "execution_count": 17,
     "metadata": {},
     "output_type": "execute_result"
    },
    {
     "data": {
      "image/png": "[encoded data removed]",
      "text/plain": [
       "<Figure size 640x480 with 1 Axes>"
      ]
     },
     "metadata": {},
     "output_type": "display_data"
    }
   ],
   "source": [
    "#เมื่อนำไปเปรียบเทียบกับ data ที่ให้มา\n",
    "ans_arr=[]\n",
    "for a in range(-90,200,2):\n",
    "    ans=0\n",
    "    for j in range(len(poly_x)):\n",
    "        ans += poly_x[j]*a**j\n",
    "    ans_arr+=[ans]\n",
    "x_pred = np.arange(-90,200,2)\n",
    "df = pd.read_csv('./data/data3.csv')\n",
    "x = df['x']\n",
    "y = df['y']\n",
    "plt.plot(x,y,color='green')\n",
    "plt.plot(x_pred,ans_arr,color='orange')\n",
    "plt.scatter(170.,y_pred,c='r')"
   ]
  }
 ],
 "metadata": {
  "colab": {
   "provenance": []
  },
  "kernelspec": {
   "display_name": "Python 3 (ipykernel)",
   "language": "python",
   "name": "python3"
  },
  "language_info": {
   "codemirror_mode": {
    "name": "ipython",
    "version": 3
   },
   "file_extension": ".py",
   "mimetype": "text/x-python",
   "name": "python",
   "nbconvert_exporter": "python",
   "pygments_lexer": "ipython3",
   "version": "3.7.9"
  }
 },
 "nbformat": 4,
 "nbformat_minor": 5
}
