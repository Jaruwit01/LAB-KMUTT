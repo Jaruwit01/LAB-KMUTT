{
 "cells": [
  {
   "cell_type": "markdown",
   "metadata": {
    "_uuid": "998fc5f76227ab1df9460a7b05c508304b14b3a6"
   },
   "source": [
    "# <center> Assignment #1\n",
    "## <center>  Exploratory data analysis with Pandas\n"
   ]
  },
  {
   "cell_type": "markdown",
   "metadata": {
    "_uuid": "89ef93231815456f4e0bc5dcc00b094aee800993"
   },
   "source": [
    "**In this task you should use Pandas to answer a few questions about the [Adult](https://archive.ics.uci.edu/ml/datasets/Adult) dataset. **"
   ]
  },
  {
   "cell_type": "markdown",
   "metadata": {
    "_uuid": "c322301ac858c748f8f80e63cf6f734fc70dde30"
   },
   "source": [
    "Unique values of all features (for more information, please see the links above):\n",
    "- `age`: continuous.\n",
    "- `workclass`: Private, Self-emp-not-inc, Self-emp-inc, Federal-gov, Local-gov, State-gov, Without-pay, Never-worked.\n",
    "- `fnlwgt`: continuous.\n",
    "- `education`: Bachelors, Some-college, 11th, HS-grad, Prof-school, Assoc-acdm, Assoc-voc, 9th, 7th-8th, 12th, Masters, 1st-4th, 10th, Doctorate, 5th-6th, Preschool.\n",
    "- `education-num`: continuous.\n",
    "- `marital-status`: Married-civ-spouse, Divorced, Never-married, Separated, Widowed, Married-spouse-absent, Married-AF-spouse.\n",
    "- `occupation`: Tech-support, Craft-repair, Other-service, Sales, Exec-managerial, Prof-specialty, Handlers-cleaners, Machine-op-inspct, Adm-clerical, Farming-fishing, Transport-moving, Priv-house-serv, Protective-serv, Armed-Forces.\n",
    "- `relationship`: Wife, Own-child, Husband, Not-in-family, Other-relative, Unmarried.\n",
    "- `race`: White, Asian-Pac-Islander, Amer-Indian-Eskimo, Other, Black.\n",
    "- `sex`: Female, Male.\n",
    "- `capital-gain`: continuous.\n",
    "- `capital-loss`: continuous.\n",
    "- `hours-per-week`: continuous.\n",
    "- `native-country`: United-States, Cambodia, England, Puerto-Rico, Canada, Germany, Outlying-US(Guam-USVI-etc), India, Japan, Greece, South, China, Cuba, Iran, Honduras, Philippines, Italy, Poland, Jamaica, Vietnam, Mexico, Portugal, Ireland, France, Dominican-Republic, Laos, Ecuador, Taiwan, Haiti, Columbia, Hungary, Guatemala, Nicaragua, Scotland, Thailand, Yugoslavia, El-Salvador, Trinadad&Tobago, Peru, Hong, Holand-Netherlands.   \n",
    "- `salary`: >50K,<=50K"
   ]
  },
  {
   "cell_type": "markdown",
   "metadata": {
    "_uuid": "6b19853f936853d40971b56f4d298ab55ee78cac"
   },
   "source": [
    "**0. Load adult.csv dataset into this notebook.**"
   ]
  },
  {
   "cell_type": "code",
   "execution_count": 6,
   "metadata": {
    "_uuid": "c5119d1b8151029b4ff57735c4279b795ae492a2"
   },
   "outputs": [
    {
     "name": "stdout",
     "output_type": "stream",
     "text": [
      "<class 'pandas.core.frame.DataFrame'>\n",
      "RangeIndex: 32561 entries, 0 to 32560\n",
      "Data columns (total 15 columns):\n",
      " #   Column          Non-Null Count  Dtype \n",
      "---  ------          --------------  ----- \n",
      " 0   age             32561 non-null  int64 \n",
      " 1   workclass       32561 non-null  object\n",
      " 2   fnlwgt          32561 non-null  int64 \n",
      " 3   education       32561 non-null  object\n",
      " 4   education-num   32561 non-null  int64 \n",
      " 5   marital-status  32561 non-null  object\n",
      " 6   occupation      32561 non-null  object\n",
      " 7   relationship    32561 non-null  object\n",
      " 8   race            32561 non-null  object\n",
      " 9   sex             32561 non-null  object\n",
      " 10  capital-gain    32561 non-null  int64 \n",
      " 11  capital-loss    32561 non-null  int64 \n",
      " 12  hours-per-week  32561 non-null  int64 \n",
      " 13  native-country  32561 non-null  object\n",
      " 14  salary          32561 non-null  object\n",
      "dtypes: int64(6), object(9)\n",
      "memory usage: 3.7+ MB\n"
     ]
    }
   ],
   "source": [
    "# You code here\n",
    "import pandas as pd\n",
    "import numpy as np\n",
    "import matplotlib.pyplot as plt\n",
    "tb = pd.read_csv(\"adult.data.csv\")\n",
    "tb.info()"
   ]
  },
  {
   "cell_type": "markdown",
   "metadata": {
    "_uuid": "6b19853f936853d40971b56f4d298ab55ee78cac"
   },
   "source": [
    "**1. How many men and women (*sex* feature) are represented in this dataset?** "
   ]
  },
  {
   "cell_type": "code",
   "execution_count": 3,
   "metadata": {
    "_uuid": "d32cafcbe966dbdfa40c3017d16d6f8c96bfb3e2"
   },
   "outputs": [
    {
     "data": {
      "text/plain": [
       "Male      21790\n",
       "Female    10771\n",
       "Name: sex, dtype: int64"
      ]
     },
     "execution_count": 3,
     "metadata": {},
     "output_type": "execute_result"
    }
   ],
   "source": [
    "# You code here\n",
    "tb['sex'].value_counts()"
   ]
  },
  {
   "cell_type": "markdown",
   "metadata": {
    "_uuid": "4748793234a5d325ea60d13331ecf93e29774523"
   },
   "source": [
    "**2. What is the average age (*age* feature) of women?**"
   ]
  },
  {
   "cell_type": "code",
   "execution_count": 4,
   "metadata": {
    "_uuid": "64f60d928855107d8980875656dcdf3587d91646"
   },
   "outputs": [
    {
     "name": "stdout",
     "output_type": "stream",
     "text": [
      "Average age of women : 36.85823043357163\n"
     ]
    }
   ],
   "source": [
    "# You code here\n",
    "women = tb[tb['sex'] == 'Female']\n",
    "print('Average age of women :', women['age'].mean())"
   ]
  },
  {
   "cell_type": "markdown",
   "metadata": {
    "_uuid": "80e87c421c348067e88769c64e554206c51727d1"
   },
   "source": [
    "**3. What is the percentage of German citizens (*native-country* feature)?**"
   ]
  },
  {
   "cell_type": "code",
   "execution_count": 5,
   "metadata": {
    "_uuid": "ca9807509692638bd945671ed7d8b4a5ad1f3626"
   },
   "outputs": [
    {
     "name": "stdout",
     "output_type": "stream",
     "text": [
      "percentage = 0.42074874850281013 %\n"
     ]
    }
   ],
   "source": [
    "# You code here\n",
    "citizens_german = tb['native-country'][tb['native-country'] == 'Germany'].count()\n",
    "all_of_citizens = tb['native-country'].count()\n",
    "\n",
    "percentage_of_german = citizens_german / all_of_citizens * 100\n",
    "\n",
    "print('percentage =', percentage_of_german, '%')\n"
   ]
  },
  {
   "cell_type": "markdown",
   "metadata": {
    "_uuid": "be9911cf525df4fca2c1d14b8720bc8a82f462e7"
   },
   "source": [
    "**4-5. What are the mean and standard deviation of age for those who earn more than 50K per year (*salary* feature) and those who earn less than 50K per year? **"
   ]
  },
  {
   "cell_type": "code",
   "execution_count": 6,
   "metadata": {
    "_uuid": "97948f0115f949913d211627151b5605bcd204fd",
    "jupyter": {
     "outputs_hidden": true
    }
   },
   "outputs": [
    {
     "name": "stdout",
     "output_type": "stream",
     "text": [
      "Average age of peoples got salary > 50K = 44.24984058155847\n",
      "Average age of peoples got salary <= 50K = 36.78373786407767\n",
      "Standard deviation of age who than 50K : 10.519027719851826\n",
      "Standard deviation of age who less 50K : 14.02008849082488\n"
     ]
    }
   ],
   "source": [
    "# You code here\n",
    "salary1 = tb[tb['salary'] == '>50K']\n",
    "salary2 = tb[tb['salary'] == '<=50K']\n",
    "print(\"Average age of peoples got salary > 50K =\", salary1['age'].mean())\n",
    "print(\"Average age of peoples got salary <= 50K =\", salary2['age'].mean())\n",
    "print(\"Standard deviation of age who than 50K :\",salary1['age'].std())\n",
    "print(\"Standard deviation of age who less 50K :\",salary2['age'].std())"
   ]
  },
  {
   "cell_type": "markdown",
   "metadata": {
    "_uuid": "180c3fe6f8b250b877c1d86866067b80acabdb64"
   },
   "source": [
    "**6. Is it true that people who earn more than 50K have at least high school education? (*education – Bachelors, Prof-school, Assoc-acdm, Assoc-voc, Masters* or *Doctorate* feature)**"
   ]
  },
  {
   "cell_type": "code",
   "execution_count": 7,
   "metadata": {
    "_uuid": "58f38ebfa2b0e1418a6a1a680d0743697f9876a2",
    "tags": []
   },
   "outputs": [
    {
     "name": "stdout",
     "output_type": "stream",
     "text": [
      "False    5981\n",
      "True     4535\n",
      "Name: salary, dtype: int64\n",
      "10516\n"
     ]
    },
    {
     "data": {
      "text/plain": [
       "True     4535\n",
       "False    3306\n",
       "Name: education, dtype: int64"
      ]
     },
     "execution_count": 7,
     "metadata": {},
     "output_type": "execute_result"
    }
   ],
   "source": [
    "# You code here\n",
    "x = tb[tb['education'].isin(['Bachelors', 'Prof-school', 'Assoc-acdm', 'Assoc-voc', 'Masters', 'Doctorate'])]['salary'] == '>50K'\n",
    "print(x.value_counts())\n",
    "print(x.count())\n",
    "#tb[tb['education'].isin(['Bachelors', 'Prof-school', 'Assoc-acdm', 'Assoc-voc', 'Masters', 'Doctorate'])]\n",
    "#tb[tb['salary'] == '>50K'][tb['education'].isin(['Bachelors', 'Prof-school', 'Assoc-acdm', 'Assoc-voc', 'Masters', 'Doctorate'])]\n",
    "tb['education'][tb['salary'] == '>50K'].isin(['Bachelors', 'Prof-school', 'Assoc-acdm', 'Assoc-voc', 'Masters', 'Doctorate']).value_counts()\n",
    "#print('Not true, Some peoples not in Bachelors, Prof-school, Assoc-acdm, Assoc-voc, Masters or Doctorate but earn more than 50K')"
   ]
  },
  {
   "cell_type": "markdown",
   "metadata": {
    "_uuid": "87d6bc9ec1c230e66416ce94533ea250368009cc"
   },
   "source": [
    "**7. Display age statistics for each race (*race* feature) and each gender (*sex* feature). Use *groupby()* and *describe()*. Find the maximum age of men of *Amer-Indian-Eskimo* race.**"
   ]
  },
  {
   "cell_type": "code",
   "execution_count": 59,
   "metadata": {
    "_uuid": "a4567b72200b583f7f2ee1583405d636c12169db",
    "tags": []
   },
   "outputs": [
    {
     "data": {
      "text/html": [
       "<div>\n",
       "<style scoped>\n",
       "    .dataframe tbody tr th:only-of-type {\n",
       "        vertical-align: middle;\n",
       "    }\n",
       "\n",
       "    .dataframe tbody tr th {\n",
       "        vertical-align: top;\n",
       "    }\n",
       "\n",
       "    .dataframe thead th {\n",
       "        text-align: right;\n",
       "    }\n",
       "</style>\n",
       "<table border=\"1\" class=\"dataframe\">\n",
       "  <thead>\n",
       "    <tr style=\"text-align: right;\">\n",
       "      <th></th>\n",
       "      <th></th>\n",
       "      <th>count</th>\n",
       "      <th>mean</th>\n",
       "      <th>std</th>\n",
       "      <th>min</th>\n",
       "      <th>25%</th>\n",
       "      <th>50%</th>\n",
       "      <th>75%</th>\n",
       "      <th>max</th>\n",
       "    </tr>\n",
       "    <tr>\n",
       "      <th>race</th>\n",
       "      <th>sex</th>\n",
       "      <th></th>\n",
       "      <th></th>\n",
       "      <th></th>\n",
       "      <th></th>\n",
       "      <th></th>\n",
       "      <th></th>\n",
       "      <th></th>\n",
       "      <th></th>\n",
       "    </tr>\n",
       "  </thead>\n",
       "  <tbody>\n",
       "    <tr>\n",
       "      <th rowspan=\"2\" valign=\"top\">Amer-Indian-Eskimo</th>\n",
       "      <th>Female</th>\n",
       "      <td>119.0</td>\n",
       "      <td>37.117647</td>\n",
       "      <td>13.114991</td>\n",
       "      <td>17.0</td>\n",
       "      <td>27.0</td>\n",
       "      <td>36.0</td>\n",
       "      <td>46.00</td>\n",
       "      <td>80.0</td>\n",
       "    </tr>\n",
       "    <tr>\n",
       "      <th>Male</th>\n",
       "      <td>192.0</td>\n",
       "      <td>37.208333</td>\n",
       "      <td>12.049563</td>\n",
       "      <td>17.0</td>\n",
       "      <td>28.0</td>\n",
       "      <td>35.0</td>\n",
       "      <td>45.00</td>\n",
       "      <td>82.0</td>\n",
       "    </tr>\n",
       "    <tr>\n",
       "      <th rowspan=\"2\" valign=\"top\">Asian-Pac-Islander</th>\n",
       "      <th>Female</th>\n",
       "      <td>346.0</td>\n",
       "      <td>35.089595</td>\n",
       "      <td>12.300845</td>\n",
       "      <td>17.0</td>\n",
       "      <td>25.0</td>\n",
       "      <td>33.0</td>\n",
       "      <td>43.75</td>\n",
       "      <td>75.0</td>\n",
       "    </tr>\n",
       "    <tr>\n",
       "      <th>Male</th>\n",
       "      <td>693.0</td>\n",
       "      <td>39.073593</td>\n",
       "      <td>12.883944</td>\n",
       "      <td>18.0</td>\n",
       "      <td>29.0</td>\n",
       "      <td>37.0</td>\n",
       "      <td>46.00</td>\n",
       "      <td>90.0</td>\n",
       "    </tr>\n",
       "    <tr>\n",
       "      <th rowspan=\"2\" valign=\"top\">Black</th>\n",
       "      <th>Female</th>\n",
       "      <td>1555.0</td>\n",
       "      <td>37.854019</td>\n",
       "      <td>12.637197</td>\n",
       "      <td>17.0</td>\n",
       "      <td>28.0</td>\n",
       "      <td>37.0</td>\n",
       "      <td>46.00</td>\n",
       "      <td>90.0</td>\n",
       "    </tr>\n",
       "    <tr>\n",
       "      <th>Male</th>\n",
       "      <td>1569.0</td>\n",
       "      <td>37.682600</td>\n",
       "      <td>12.882612</td>\n",
       "      <td>17.0</td>\n",
       "      <td>27.0</td>\n",
       "      <td>36.0</td>\n",
       "      <td>46.00</td>\n",
       "      <td>90.0</td>\n",
       "    </tr>\n",
       "    <tr>\n",
       "      <th rowspan=\"2\" valign=\"top\">Other</th>\n",
       "      <th>Female</th>\n",
       "      <td>109.0</td>\n",
       "      <td>31.678899</td>\n",
       "      <td>11.631599</td>\n",
       "      <td>17.0</td>\n",
       "      <td>23.0</td>\n",
       "      <td>29.0</td>\n",
       "      <td>39.00</td>\n",
       "      <td>74.0</td>\n",
       "    </tr>\n",
       "    <tr>\n",
       "      <th>Male</th>\n",
       "      <td>162.0</td>\n",
       "      <td>34.654321</td>\n",
       "      <td>11.355531</td>\n",
       "      <td>17.0</td>\n",
       "      <td>26.0</td>\n",
       "      <td>32.0</td>\n",
       "      <td>42.00</td>\n",
       "      <td>77.0</td>\n",
       "    </tr>\n",
       "    <tr>\n",
       "      <th rowspan=\"2\" valign=\"top\">White</th>\n",
       "      <th>Female</th>\n",
       "      <td>8642.0</td>\n",
       "      <td>36.811618</td>\n",
       "      <td>14.329093</td>\n",
       "      <td>17.0</td>\n",
       "      <td>25.0</td>\n",
       "      <td>35.0</td>\n",
       "      <td>46.00</td>\n",
       "      <td>90.0</td>\n",
       "    </tr>\n",
       "    <tr>\n",
       "      <th>Male</th>\n",
       "      <td>19174.0</td>\n",
       "      <td>39.652498</td>\n",
       "      <td>13.436029</td>\n",
       "      <td>17.0</td>\n",
       "      <td>29.0</td>\n",
       "      <td>38.0</td>\n",
       "      <td>49.00</td>\n",
       "      <td>90.0</td>\n",
       "    </tr>\n",
       "  </tbody>\n",
       "</table>\n",
       "</div>"
      ],
      "text/plain": [
       "                             count       mean        std   min   25%   50%  \\\n",
       "race               sex                                                       \n",
       "Amer-Indian-Eskimo Female    119.0  37.117647  13.114991  17.0  27.0  36.0   \n",
       "                   Male      192.0  37.208333  12.049563  17.0  28.0  35.0   \n",
       "Asian-Pac-Islander Female    346.0  35.089595  12.300845  17.0  25.0  33.0   \n",
       "                   Male      693.0  39.073593  12.883944  18.0  29.0  37.0   \n",
       "Black              Female   1555.0  37.854019  12.637197  17.0  28.0  37.0   \n",
       "                   Male     1569.0  37.682600  12.882612  17.0  27.0  36.0   \n",
       "Other              Female    109.0  31.678899  11.631599  17.0  23.0  29.0   \n",
       "                   Male      162.0  34.654321  11.355531  17.0  26.0  32.0   \n",
       "White              Female   8642.0  36.811618  14.329093  17.0  25.0  35.0   \n",
       "                   Male    19174.0  39.652498  13.436029  17.0  29.0  38.0   \n",
       "\n",
       "                             75%   max  \n",
       "race               sex                  \n",
       "Amer-Indian-Eskimo Female  46.00  80.0  \n",
       "                   Male    45.00  82.0  \n",
       "Asian-Pac-Islander Female  43.75  75.0  \n",
       "                   Male    46.00  90.0  \n",
       "Black              Female  46.00  90.0  \n",
       "                   Male    46.00  90.0  \n",
       "Other              Female  39.00  74.0  \n",
       "                   Male    42.00  77.0  \n",
       "White              Female  46.00  90.0  \n",
       "                   Male    49.00  90.0  "
      ]
     },
     "metadata": {},
     "output_type": "display_data"
    },
    {
     "name": "stdout",
     "output_type": "stream",
     "text": [
      "Maximum age of men of Amer-Indian-Eskimo : 82\n"
     ]
    }
   ],
   "source": [
    "# You code here\n",
    "#tb.groupby('race')\n",
    "#tb.describe()\n",
    "#df = pd.DataFrame(tb)\n",
    "#race_count = df.groupby('race')['sex'].value_counts()\n",
    "#print(race_count)\n",
    "#race = df.groupby('race')['sex'].unique()\n",
    "display(tb.groupby(['race','sex'])['age'].describe())\n",
    "race = tb.groupby(['race','sex'])['age'].max()\n",
    "print('Maximum age of men of Amer-Indian-Eskimo :', race['Amer-Indian-Eskimo']['Male'])\n",
    "#race.agg(['Amer-Indian-Eskimo']).agg(['Male'])\n",
    "\n",
    "\n",
    "#race_type\n",
    "#plt.xlabel(\"race and sex\")\n",
    "#plt.ylabel(\"count\")\n",
    "\n",
    "#plt.bar(race[1],race_count[1],color = 'red')\n",
    "#race.describe()\n",
    "#plt.scatter(race, sex)\n",
    "#plt.show()"
   ]
  },
  {
   "cell_type": "markdown",
   "metadata": {
    "_uuid": "19411d604b0d4337a4a048a2f0e898541f39ab76"
   },
   "source": [
    "**8. Among whom is the proportion of those who earn a lot (>50K) greater: married or single men (*marital-status* feature)? Consider as married those who have a *marital-status* starting with *Married* (Married-civ-spouse, Married-spouse-absent or Married-AF-spouse), the rest are considered bachelors.**"
   ]
  },
  {
   "cell_type": "code",
   "execution_count": 43,
   "metadata": {
    "_uuid": "5bb3a8524fcbd794707075ccf6aaf8dd0f30a3dd",
    "tags": []
   },
   "outputs": [
    {
     "name": "stdout",
     "output_type": "stream",
     "text": [
      "Men married greater Men single\n",
      "Men have salary > 50K married 5969 peoples\n",
      "Men have salary <= 50 K married 697 peoples\n",
      "Proportion (Married : Single) = 89.54395439543954 : 10.456045604560458\n"
     ]
    }
   ],
   "source": [
    "# You code here\n",
    "married = ['Married-civ-spouse','Married-AF-spouse','Married-spouse-absent']\n",
    "marital = tb['marital-status'].unique()\n",
    "men_than_50 = pd.merge(tb[tb['salary'] == '>50K'], tb[tb['sex'] == 'Male'])\n",
    "m_m_50 = men_than_50['marital-status'].isin(married).value_counts()\n",
    "\n",
    "print(\"Men married greater Men single\")\n",
    "print(\"Men have salary > 50K married\",m_m_50[1],\"peoples\\nMen have salary <= 50 K married\",m_m_50[0],\"peoples\")\n",
    "Married = m_m_50[1] / men_than_50['marital-status'].count() * 100\n",
    "print(\"Proportion (Married : Single) =\", Married , ':', 100 - Married)"
   ]
  },
  {
   "cell_type": "markdown",
   "metadata": {
    "_uuid": "34f2076e7d331b95a23b990372809b709d2c8183"
   },
   "source": [
    "**9. What is the maximum number of hours a person works per week (*hours-per-week* feature)? How many people work such a number of hours, and what is the percentage of those who earn a lot (>50K) among them?**"
   ]
  },
  {
   "cell_type": "code",
   "execution_count": 50,
   "metadata": {},
   "outputs": [
    {
     "name": "stdout",
     "output_type": "stream",
     "text": [
      "85 peoples work such a maximum number of hours(99 Hours per week)\n"
     ]
    }
   ],
   "source": [
    "# You code here\n",
    "hoursmax = tb[tb['hours-per-week'] == tb['hours-per-week'].max()]\n",
    "print(hoursmax['hours-per-week'].count(),' peoples work such a maximum number of hours(', tb['hours-per-week'].max(), ' Hours per week)',sep ='')"
   ]
  },
  {
   "cell_type": "code",
   "execution_count": 51,
   "metadata": {
    "_uuid": "3571468172fc4bcf34e10b3d6ab358d4e41f7ef4",
    "jupyter": {
     "outputs_hidden": true
    }
   },
   "outputs": [
    {
     "name": "stdout",
     "output_type": "stream",
     "text": [
      "25 peoples work such a maximum number of hours and earn a lot salary than 50K\n",
      "Percentage = 29.411764705882355 %\n"
     ]
    }
   ],
   "source": [
    "# You code here\n",
    "hoursmax_than50K = hoursmax[hoursmax['salary'] == '>50K']['hours-per-week'].count()\n",
    "print(hoursmax_than50K,'peoples work such a maximum number of hours and earn a lot salary than 50K')\n",
    "print('Percentage =',hoursmax_than50K / hoursmax['hours-per-week'].count() * 100, '%')"
   ]
  },
  {
   "cell_type": "markdown",
   "metadata": {
    "_uuid": "d539d4d137fac1c5ea25bc516188eb657d67e9b4"
   },
   "source": [
    "**10. Count the average time of work (*hours-per-week*) for those who earn a little and a lot (*salary*) for each country (*native-country*). What will these be for Japan?**"
   ]
  },
  {
   "cell_type": "code",
   "execution_count": 111,
   "metadata": {
    "_uuid": "75a93411f1e3b519afcc27c026aaa0c67eb526e9",
    "tags": []
   },
   "outputs": [
    {
     "name": "stdout",
     "output_type": "stream",
     "text": [
      "Salary <=50K :\n",
      "United-States = 38.79912723305605\n",
      "Cuba = 37.98571428571429\n",
      "Jamaica = 38.23943661971831\n",
      "India = 38.233333333333334\n",
      "? = 40.16475972540046\n",
      "Mexico = 40.00327868852459\n",
      "South = 40.15625\n",
      "Puerto-Rico = 38.470588235294116\n",
      "Honduras = 34.333333333333336\n",
      "England = 40.483333333333334\n",
      "Canada = 37.91463414634146\n",
      "Germany = 39.13978494623656\n",
      "Iran = 41.44\n",
      "Philippines = 38.065693430656935\n",
      "Italy = 39.625\n",
      "Poland = 38.166666666666664\n",
      "Columbia = 38.68421052631579\n",
      "Cambodia = 41.416666666666664\n",
      "Thailand = 42.86666666666667\n",
      "Ecuador = 38.041666666666664\n",
      "Laos = 40.375\n",
      "Taiwan = 33.774193548387096\n",
      "Haiti = 36.325\n",
      "Portugal = 41.93939393939394\n",
      "Dominican-Republic = 42.338235294117645\n",
      "El-Salvador = 36.03092783505155\n",
      "France = 41.05882352941177\n",
      "Guatemala = 39.36065573770492\n",
      "China = 37.38181818181818\n",
      "Japan = 41.0\n",
      "Yugoslavia = 41.6\n",
      "Peru = 35.06896551724138\n",
      "Outlying-US(Guam-USVI-etc) = 41.857142857142854\n",
      "Scotland = 39.44444444444444\n",
      "Trinadad&Tobago = 37.05882352941177\n",
      "Greece = 41.80952380952381\n",
      "Nicaragua = 36.09375\n",
      "Vietnam = 37.193548387096776\n",
      "Hong = 39.142857142857146\n",
      "Ireland = 40.94736842105263\n",
      "Hungary = 31.3\n",
      "Holand-Netherlands = 40.0\n",
      "\n",
      "\n",
      "Salary >50K :\n",
      "United-States = 45.50536884674383\n",
      "Cuba = 42.44\n",
      "Jamaica = 41.1\n",
      "India = 46.475\n",
      "? = 45.54794520547945\n",
      "Mexico = 46.57575757575758\n",
      "South = 51.4375\n",
      "Puerto-Rico = 39.416666666666664\n",
      "Honduras = 60.0\n",
      "England = 44.53333333333333\n",
      "Canada = 45.64102564102564\n",
      "Germany = 44.97727272727273\n",
      "Iran = 47.5\n",
      "Philippines = 43.032786885245905\n",
      "Italy = 45.4\n",
      "Poland = 39.0\n",
      "Columbia = 50.0\n",
      "Cambodia = 40.0\n",
      "Thailand = 58.333333333333336\n",
      "Ecuador = 48.75\n",
      "Laos = 40.0\n",
      "Taiwan = 46.8\n",
      "Haiti = 42.75\n",
      "Portugal = 41.5\n",
      "Dominican-Republic = 47.0\n",
      "El-Salvador = 45.0\n",
      "France = 50.75\n",
      "Guatemala = 36.666666666666664\n",
      "China = 38.9\n",
      "Japan = 47.958333333333336\n",
      "Yugoslavia = 49.5\n",
      "Peru = 40.0\n",
      "Outlying-US(Guam-USVI-etc) = nan\n",
      "Scotland = 46.666666666666664\n",
      "Trinadad&Tobago = 40.0\n",
      "Greece = 50.625\n",
      "Nicaragua = 37.5\n",
      "Vietnam = 39.2\n",
      "Hong = 45.0\n",
      "Ireland = 48.0\n",
      "Hungary = 50.0\n",
      "Holand-Netherlands = nan\n",
      "\n",
      "\n",
      "In Japan  Average time of work = 41.0 ,salary <= 50K\n",
      "\t  Average time of work = 47.958333333333336 ,salary > 50K\n"
     ]
    }
   ],
   "source": [
    "# You code here\n",
    "country = tb['native-country'].unique()\n",
    "print('Salary <=50K :')\n",
    "for i in range(len(country)):\n",
    "    print(country[i], '=', tb['hours-per-week'][tb['salary'] == '<=50K'][tb['native-country'] == country[i]].mean())\n",
    "\n",
    "print('\\n\\nSalary >50K :')\n",
    "for i in range(len(country)):\n",
    "    print(country[i], '=', tb['hours-per-week'][tb['salary'] == '>50K'][tb['native-country'] == country[i]].mean())\n",
    "    \n",
    "print('\\n\\nIn Japan  Average time of work =',tb['hours-per-week'][tb['native-country'] == 'Japan'][tb['salary'] == '<=50K'].mean(),',salary <= 50K')\n",
    "print('\\t  Average time of work =',tb['hours-per-week'][tb['native-country'] == 'Japan'][tb['salary'] == '>50K'].mean(),',salary > 50K')"
   ]
  },
  {
   "cell_type": "code",
   "execution_count": null,
   "metadata": {},
   "outputs": [],
   "source": []
  }
 ],
 "metadata": {
  "anaconda-cloud": {},
  "kernelspec": {
   "display_name": "Python 3 (ipykernel)",
   "language": "python",
   "name": "python3"
  },
  "language_info": {
   "codemirror_mode": {
    "name": "ipython",
    "version": 3
   },
   "file_extension": ".py",
   "mimetype": "text/x-python",
   "name": "python",
   "nbconvert_exporter": "python",
   "pygments_lexer": "ipython3",
   "version": "3.10.7"
  }
 },
 "nbformat": 4,
 "nbformat_minor": 4
}
